{
 "cells": [
  {
   "cell_type": "markdown",
   "metadata": {},
   "source": [
    "¡Hola!\n",
    "\n",
    "Mi nombre es Marcos Torres y tengo el gusto de revisar tu código el día de hoy.\n",
    "\n",
    "Cuando vea algo notable o algún asunto en el notebook, te dejaré un comentario o un hint. Se que encontraras la mejor respuesta para resolver todos los comentarios, de no ser así, no te preocupes en futuras iteraciones dejaré comentarios y pistas más específicos.\n",
    "\n",
    "Encontrarás comentarios en verde, amarillo o rojo como los siguientes:\n",
    "\n",
    "<div class=\"alert alert-block alert-success\">\n",
    "<b>Comentario del revisor</b> <a class=\"tocSkip\"></a>\n",
    "\n",
    "Buen trabajo. ¡Lo hiciste muy bien!\n",
    "</div>\n",
    "\n",
    "<div class=\"alert alert-block alert-warning\">\n",
    "<b>Comentario del revisor</b> <a class=\"tocSkip\"></a>\n",
    "\n",
    "Nota. Se puede mejorar.\n",
    "</div>\n",
    "\n",
    "<div class=\"alert alert-block alert-danger\">\n",
    "<b>Comentario del revisor</b> <a class=\"tocSkip\"></a>\n",
    "\n",
    "Necesitas corregirlo. Este bloque indica que se requiere una correción. El trabajo no se acepta si tiene estos bloques.\n",
    "</div>\n",
    "\n",
    "Puedes responder a mis comentarios usando estos bloques:\n",
    "\n",
    "<div class=\"alert alert-block alert-info\">\n",
    "<b>Respuesta del estudiante.</b> <a class=\"tocSkip\"></a>\n",
    "</div>"
   ]
  },
  {
   "cell_type": "markdown",
   "metadata": {
    "tags": [
     "e5c1f0c2-db9f-43a0-99b9-4875c52427e8"
    ]
   },
   "source": [
    "# 1. Abre el archivo de datos y estudia la información general "
   ]
  },
  {
   "cell_type": "code",
   "execution_count": 1,
   "metadata": {},
   "outputs": [],
   "source": [
    "#Agregar todas las librerias que se necesitan para este data frame\n",
    "from scipy import stats as st\n",
    "from math import factorial\n",
    "import numpy as np\n",
    "import pandas as pd\n",
    "import matplotlib.pyplot as plt\n",
    "import seaborn as sns"
   ]
  },
  {
   "cell_type": "code",
   "execution_count": 2,
   "metadata": {},
   "outputs": [],
   "source": [
    "#Agregar el archivo\n",
    "games = pd.read_csv('/datasets/games.csv')"
   ]
  },
  {
   "cell_type": "markdown",
   "metadata": {},
   "source": [
    "<div class=\"alert alert-block alert-success\">\n",
    "<b>Comentario del revisor</b> <a class=\"tocSkip\"></a>\n",
    "\n",
    "Bien, usaste una celda independiente para importar las librerías y otra para leer los datos\n",
    "</div>"
   ]
  },
  {
   "cell_type": "markdown",
   "metadata": {},
   "source": [
    "# 2. Preparar los datos"
   ]
  },
  {
   "cell_type": "code",
   "execution_count": 3,
   "metadata": {},
   "outputs": [
    {
     "name": "stdout",
     "output_type": "stream",
     "text": [
      "<class 'pandas.core.frame.DataFrame'>\n",
      "RangeIndex: 16715 entries, 0 to 16714\n",
      "Data columns (total 11 columns):\n",
      " #   Column           Non-Null Count  Dtype  \n",
      "---  ------           --------------  -----  \n",
      " 0   Name             16713 non-null  object \n",
      " 1   Platform         16715 non-null  object \n",
      " 2   Year_of_Release  16446 non-null  float64\n",
      " 3   Genre            16713 non-null  object \n",
      " 4   NA_sales         16715 non-null  float64\n",
      " 5   EU_sales         16715 non-null  float64\n",
      " 6   JP_sales         16715 non-null  float64\n",
      " 7   Other_sales      16715 non-null  float64\n",
      " 8   Critic_Score     8137 non-null   float64\n",
      " 9   User_Score       10014 non-null  object \n",
      " 10  Rating           9949 non-null   object \n",
      "dtypes: float64(6), object(5)\n",
      "memory usage: 1.4+ MB\n"
     ]
    }
   ],
   "source": [
    "games.info()"
   ]
  },
  {
   "cell_type": "code",
   "execution_count": 4,
   "metadata": {},
   "outputs": [
    {
     "data": {
      "text/html": [
       "<div>\n",
       "<style scoped>\n",
       "    .dataframe tbody tr th:only-of-type {\n",
       "        vertical-align: middle;\n",
       "    }\n",
       "\n",
       "    .dataframe tbody tr th {\n",
       "        vertical-align: top;\n",
       "    }\n",
       "\n",
       "    .dataframe thead th {\n",
       "        text-align: right;\n",
       "    }\n",
       "</style>\n",
       "<table border=\"1\" class=\"dataframe\">\n",
       "  <thead>\n",
       "    <tr style=\"text-align: right;\">\n",
       "      <th></th>\n",
       "      <th>Name</th>\n",
       "      <th>Platform</th>\n",
       "      <th>Year_of_Release</th>\n",
       "      <th>Genre</th>\n",
       "      <th>NA_sales</th>\n",
       "      <th>EU_sales</th>\n",
       "      <th>JP_sales</th>\n",
       "      <th>Other_sales</th>\n",
       "      <th>Critic_Score</th>\n",
       "      <th>User_Score</th>\n",
       "      <th>Rating</th>\n",
       "    </tr>\n",
       "  </thead>\n",
       "  <tbody>\n",
       "    <tr>\n",
       "      <th>0</th>\n",
       "      <td>Wii Sports</td>\n",
       "      <td>Wii</td>\n",
       "      <td>2006.0</td>\n",
       "      <td>Sports</td>\n",
       "      <td>41.36</td>\n",
       "      <td>28.96</td>\n",
       "      <td>3.77</td>\n",
       "      <td>8.45</td>\n",
       "      <td>76.0</td>\n",
       "      <td>8</td>\n",
       "      <td>E</td>\n",
       "    </tr>\n",
       "    <tr>\n",
       "      <th>1</th>\n",
       "      <td>Super Mario Bros.</td>\n",
       "      <td>NES</td>\n",
       "      <td>1985.0</td>\n",
       "      <td>Platform</td>\n",
       "      <td>29.08</td>\n",
       "      <td>3.58</td>\n",
       "      <td>6.81</td>\n",
       "      <td>0.77</td>\n",
       "      <td>NaN</td>\n",
       "      <td>NaN</td>\n",
       "      <td>NaN</td>\n",
       "    </tr>\n",
       "    <tr>\n",
       "      <th>2</th>\n",
       "      <td>Mario Kart Wii</td>\n",
       "      <td>Wii</td>\n",
       "      <td>2008.0</td>\n",
       "      <td>Racing</td>\n",
       "      <td>15.68</td>\n",
       "      <td>12.76</td>\n",
       "      <td>3.79</td>\n",
       "      <td>3.29</td>\n",
       "      <td>82.0</td>\n",
       "      <td>8.3</td>\n",
       "      <td>E</td>\n",
       "    </tr>\n",
       "    <tr>\n",
       "      <th>3</th>\n",
       "      <td>Wii Sports Resort</td>\n",
       "      <td>Wii</td>\n",
       "      <td>2009.0</td>\n",
       "      <td>Sports</td>\n",
       "      <td>15.61</td>\n",
       "      <td>10.93</td>\n",
       "      <td>3.28</td>\n",
       "      <td>2.95</td>\n",
       "      <td>80.0</td>\n",
       "      <td>8</td>\n",
       "      <td>E</td>\n",
       "    </tr>\n",
       "    <tr>\n",
       "      <th>4</th>\n",
       "      <td>Pokemon Red/Pokemon Blue</td>\n",
       "      <td>GB</td>\n",
       "      <td>1996.0</td>\n",
       "      <td>Role-Playing</td>\n",
       "      <td>11.27</td>\n",
       "      <td>8.89</td>\n",
       "      <td>10.22</td>\n",
       "      <td>1.00</td>\n",
       "      <td>NaN</td>\n",
       "      <td>NaN</td>\n",
       "      <td>NaN</td>\n",
       "    </tr>\n",
       "  </tbody>\n",
       "</table>\n",
       "</div>"
      ],
      "text/plain": [
       "                       Name Platform  Year_of_Release         Genre  NA_sales  \\\n",
       "0                Wii Sports      Wii           2006.0        Sports     41.36   \n",
       "1         Super Mario Bros.      NES           1985.0      Platform     29.08   \n",
       "2            Mario Kart Wii      Wii           2008.0        Racing     15.68   \n",
       "3         Wii Sports Resort      Wii           2009.0        Sports     15.61   \n",
       "4  Pokemon Red/Pokemon Blue       GB           1996.0  Role-Playing     11.27   \n",
       "\n",
       "   EU_sales  JP_sales  Other_sales  Critic_Score User_Score Rating  \n",
       "0     28.96      3.77         8.45          76.0          8      E  \n",
       "1      3.58      6.81         0.77           NaN        NaN    NaN  \n",
       "2     12.76      3.79         3.29          82.0        8.3      E  \n",
       "3     10.93      3.28         2.95          80.0          8      E  \n",
       "4      8.89     10.22         1.00           NaN        NaN    NaN  "
      ]
     },
     "execution_count": 4,
     "metadata": {},
     "output_type": "execute_result"
    }
   ],
   "source": [
    "games.head(5)"
   ]
  },
  {
   "cell_type": "markdown",
   "metadata": {},
   "source": [
    "En este paso, se realizarán tres modificaciones importantes en los datos. \n",
    "\n",
    "1. Se cambiarán los nombres de las columnas a minúsculas para facilitar su comprensión y agilizar la extracción de la información.\n",
    "\n",
    "2. La columna 'User_Score' también está en formato float64 y refleja las calificaciones de los usuarios.\n"
   ]
  },
  {
   "cell_type": "markdown",
   "metadata": {},
   "source": [
    "# 2.1 Paso: Corregir los datos"
   ]
  },
  {
   "cell_type": "code",
   "execution_count": 5,
   "metadata": {},
   "outputs": [
    {
     "data": {
      "text/html": [
       "<div>\n",
       "<style scoped>\n",
       "    .dataframe tbody tr th:only-of-type {\n",
       "        vertical-align: middle;\n",
       "    }\n",
       "\n",
       "    .dataframe tbody tr th {\n",
       "        vertical-align: top;\n",
       "    }\n",
       "\n",
       "    .dataframe thead th {\n",
       "        text-align: right;\n",
       "    }\n",
       "</style>\n",
       "<table border=\"1\" class=\"dataframe\">\n",
       "  <thead>\n",
       "    <tr style=\"text-align: right;\">\n",
       "      <th></th>\n",
       "      <th>name</th>\n",
       "      <th>platform</th>\n",
       "      <th>year_of_release</th>\n",
       "      <th>genre</th>\n",
       "      <th>na_sales</th>\n",
       "      <th>eu_sales</th>\n",
       "      <th>jp_sales</th>\n",
       "      <th>other_sales</th>\n",
       "      <th>critic_score</th>\n",
       "      <th>user_score</th>\n",
       "      <th>rating</th>\n",
       "    </tr>\n",
       "  </thead>\n",
       "  <tbody>\n",
       "    <tr>\n",
       "      <th>0</th>\n",
       "      <td>Wii Sports</td>\n",
       "      <td>Wii</td>\n",
       "      <td>2006.0</td>\n",
       "      <td>Sports</td>\n",
       "      <td>41.36</td>\n",
       "      <td>28.96</td>\n",
       "      <td>3.77</td>\n",
       "      <td>8.45</td>\n",
       "      <td>76.0</td>\n",
       "      <td>8</td>\n",
       "      <td>E</td>\n",
       "    </tr>\n",
       "    <tr>\n",
       "      <th>1</th>\n",
       "      <td>Super Mario Bros.</td>\n",
       "      <td>NES</td>\n",
       "      <td>1985.0</td>\n",
       "      <td>Platform</td>\n",
       "      <td>29.08</td>\n",
       "      <td>3.58</td>\n",
       "      <td>6.81</td>\n",
       "      <td>0.77</td>\n",
       "      <td>NaN</td>\n",
       "      <td>NaN</td>\n",
       "      <td>NaN</td>\n",
       "    </tr>\n",
       "    <tr>\n",
       "      <th>2</th>\n",
       "      <td>Mario Kart Wii</td>\n",
       "      <td>Wii</td>\n",
       "      <td>2008.0</td>\n",
       "      <td>Racing</td>\n",
       "      <td>15.68</td>\n",
       "      <td>12.76</td>\n",
       "      <td>3.79</td>\n",
       "      <td>3.29</td>\n",
       "      <td>82.0</td>\n",
       "      <td>8.3</td>\n",
       "      <td>E</td>\n",
       "    </tr>\n",
       "    <tr>\n",
       "      <th>3</th>\n",
       "      <td>Wii Sports Resort</td>\n",
       "      <td>Wii</td>\n",
       "      <td>2009.0</td>\n",
       "      <td>Sports</td>\n",
       "      <td>15.61</td>\n",
       "      <td>10.93</td>\n",
       "      <td>3.28</td>\n",
       "      <td>2.95</td>\n",
       "      <td>80.0</td>\n",
       "      <td>8</td>\n",
       "      <td>E</td>\n",
       "    </tr>\n",
       "    <tr>\n",
       "      <th>4</th>\n",
       "      <td>Pokemon Red/Pokemon Blue</td>\n",
       "      <td>GB</td>\n",
       "      <td>1996.0</td>\n",
       "      <td>Role-Playing</td>\n",
       "      <td>11.27</td>\n",
       "      <td>8.89</td>\n",
       "      <td>10.22</td>\n",
       "      <td>1.00</td>\n",
       "      <td>NaN</td>\n",
       "      <td>NaN</td>\n",
       "      <td>NaN</td>\n",
       "    </tr>\n",
       "  </tbody>\n",
       "</table>\n",
       "</div>"
      ],
      "text/plain": [
       "                       name platform  year_of_release         genre  na_sales  \\\n",
       "0                Wii Sports      Wii           2006.0        Sports     41.36   \n",
       "1         Super Mario Bros.      NES           1985.0      Platform     29.08   \n",
       "2            Mario Kart Wii      Wii           2008.0        Racing     15.68   \n",
       "3         Wii Sports Resort      Wii           2009.0        Sports     15.61   \n",
       "4  Pokemon Red/Pokemon Blue       GB           1996.0  Role-Playing     11.27   \n",
       "\n",
       "   eu_sales  jp_sales  other_sales  critic_score user_score rating  \n",
       "0     28.96      3.77         8.45          76.0          8      E  \n",
       "1      3.58      6.81         0.77           NaN        NaN    NaN  \n",
       "2     12.76      3.79         3.29          82.0        8.3      E  \n",
       "3     10.93      3.28         2.95          80.0          8      E  \n",
       "4      8.89     10.22         1.00           NaN        NaN    NaN  "
      ]
     },
     "execution_count": 5,
     "metadata": {},
     "output_type": "execute_result"
    }
   ],
   "source": [
    "# 1: Pasar a Minúsculas el nombre de las columnas\n",
    "games.columns = games.columns.str.lower() \n",
    "games.head(5)"
   ]
  },
  {
   "cell_type": "code",
   "execution_count": 6,
   "metadata": {},
   "outputs": [
    {
     "name": "stdout",
     "output_type": "stream",
     "text": [
      "<class 'pandas.core.frame.DataFrame'>\n",
      "RangeIndex: 16715 entries, 0 to 16714\n",
      "Data columns (total 11 columns):\n",
      " #   Column           Non-Null Count  Dtype  \n",
      "---  ------           --------------  -----  \n",
      " 0   name             16713 non-null  object \n",
      " 1   platform         16715 non-null  object \n",
      " 2   year_of_release  16446 non-null  float64\n",
      " 3   genre            16713 non-null  object \n",
      " 4   na_sales         16715 non-null  float64\n",
      " 5   eu_sales         16715 non-null  float64\n",
      " 6   jp_sales         16715 non-null  float64\n",
      " 7   other_sales      16715 non-null  float64\n",
      " 8   critic_score     8137 non-null   float64\n",
      " 9   user_score       7590 non-null   float64\n",
      " 10  rating           9949 non-null   object \n",
      "dtypes: float64(7), object(4)\n",
      "memory usage: 1.4+ MB\n"
     ]
    }
   ],
   "source": [
    "#3: convertir la columna user_score a un número flotante\n",
    "games['user_score'] = pd.to_numeric(games['user_score'], errors='coerce')\n",
    "#imprimimos el nuevo archivo modificado\n",
    "games.info()"
   ]
  },
  {
   "cell_type": "markdown",
   "metadata": {},
   "source": [
    "<div class=\"alert alert-block alert-success\">\n",
    "<b>Comentario del revisor</b> <a class=\"tocSkip\"></a>\n",
    "\n",
    "Buen uso de los métodos de pandas para explorar y manejar los datos\n",
    "</div>"
   ]
  },
  {
   "cell_type": "markdown",
   "metadata": {},
   "source": [
    "# 2.2: Revisión de ausentes "
   ]
  },
  {
   "cell_type": "code",
   "execution_count": 7,
   "metadata": {},
   "outputs": [
    {
     "name": "stdout",
     "output_type": "stream",
     "text": [
      "name                  2\n",
      "platform              0\n",
      "year_of_release     269\n",
      "genre                 2\n",
      "na_sales              0\n",
      "eu_sales              0\n",
      "jp_sales              0\n",
      "other_sales           0\n",
      "critic_score       8578\n",
      "user_score         9125\n",
      "rating             6766\n",
      "dtype: int64\n"
     ]
    }
   ],
   "source": [
    "print(games.isna().sum())"
   ]
  },
  {
   "cell_type": "markdown",
   "metadata": {},
   "source": [
    "Tratamiento de los valores ausentes:\n",
    "\n",
    "Se ha decidido dejar los valores ausentes en las columnas 'critic_score', 'user_score' y 'rating' se rellenaran con la media, ya que rellenar con la media no debería alterar demasiado el análisis si las ventas o calificaciones no tienen valores extremadamente altos o bajos. \n",
    "\n",
    "Rellenar con la media también ayuda a mantener el tamaño del DataFrame, evitando la eliminación de filas.\n",
    "\n",
    "La columna year_of_release voy a colocar el minimo en los años ausentes. Ya que son unicamente 269 valores ausentes de 16715 datos.\n",
    "\n",
    "Razones de los valores ausentes:\n",
    "\n",
    "a) Falta de información: No se proporcionaron puntuaciones o calificaciones en algunas fuentes.\n",
    "\n",
    "b) Datos no recolectados: Algunos juegos o plataformas no tienen datos completos.\n",
    "\n",
    "c) Errores de entrada: Puede haber errores en la recopilación o carga de datos."
   ]
  },
  {
   "cell_type": "code",
   "execution_count": 8,
   "metadata": {},
   "outputs": [],
   "source": [
    "promedio_critic = games['critic_score'].mean()\n",
    "promedio_user = games['user_score'].mean()"
   ]
  },
  {
   "cell_type": "code",
   "execution_count": 9,
   "metadata": {},
   "outputs": [
    {
     "name": "stdout",
     "output_type": "stream",
     "text": [
      "0\n",
      "0\n"
     ]
    }
   ],
   "source": [
    "games['critic_score'].fillna(promedio_critic, inplace=True)\n",
    "games['user_score'].fillna(promedio_user, inplace=True)\n",
    "print(games['critic_score'].isna().sum())\n",
    "print(games['user_score'].isna().sum())"
   ]
  },
  {
   "cell_type": "code",
   "execution_count": 10,
   "metadata": {
    "scrolled": true
   },
   "outputs": [
    {
     "name": "stdout",
     "output_type": "stream",
     "text": [
      "0\n"
     ]
    }
   ],
   "source": [
    "#Colocar 0 a las fechas que no aparecen y verificar si aún tenemos ausentes\n",
    "games['year_of_release'].fillna('1980', inplace=True)\n",
    "print(games['year_of_release'].isna().sum())"
   ]
  },
  {
   "cell_type": "code",
   "execution_count": 11,
   "metadata": {},
   "outputs": [
    {
     "data": {
      "text/plain": [
       "count     16715.0\n",
       "unique       38.0\n",
       "top        2008.0\n",
       "freq       1427.0\n",
       "Name: year_of_release, dtype: float64"
      ]
     },
     "execution_count": 11,
     "metadata": {},
     "output_type": "execute_result"
    }
   ],
   "source": [
    "games['year_of_release'].describe()"
   ]
  },
  {
   "cell_type": "code",
   "execution_count": 12,
   "metadata": {},
   "outputs": [],
   "source": [
    "#Cambien de numero flotante a entero\n",
    "games['year_of_release'] = games['year_of_release'].astype(int)"
   ]
  },
  {
   "cell_type": "code",
   "execution_count": 13,
   "metadata": {},
   "outputs": [
    {
     "data": {
      "text/html": [
       "<div>\n",
       "<style scoped>\n",
       "    .dataframe tbody tr th:only-of-type {\n",
       "        vertical-align: middle;\n",
       "    }\n",
       "\n",
       "    .dataframe tbody tr th {\n",
       "        vertical-align: top;\n",
       "    }\n",
       "\n",
       "    .dataframe thead th {\n",
       "        text-align: right;\n",
       "    }\n",
       "</style>\n",
       "<table border=\"1\" class=\"dataframe\">\n",
       "  <thead>\n",
       "    <tr style=\"text-align: right;\">\n",
       "      <th></th>\n",
       "      <th>name</th>\n",
       "      <th>platform</th>\n",
       "      <th>year_of_release</th>\n",
       "      <th>genre</th>\n",
       "      <th>na_sales</th>\n",
       "      <th>eu_sales</th>\n",
       "      <th>jp_sales</th>\n",
       "      <th>other_sales</th>\n",
       "      <th>critic_score</th>\n",
       "      <th>user_score</th>\n",
       "      <th>rating</th>\n",
       "      <th>total_sales</th>\n",
       "    </tr>\n",
       "  </thead>\n",
       "  <tbody>\n",
       "    <tr>\n",
       "      <th>0</th>\n",
       "      <td>Wii Sports</td>\n",
       "      <td>Wii</td>\n",
       "      <td>2006</td>\n",
       "      <td>Sports</td>\n",
       "      <td>41.36</td>\n",
       "      <td>28.96</td>\n",
       "      <td>3.77</td>\n",
       "      <td>8.45</td>\n",
       "      <td>76.000000</td>\n",
       "      <td>8.000000</td>\n",
       "      <td>E</td>\n",
       "      <td>82.54</td>\n",
       "    </tr>\n",
       "    <tr>\n",
       "      <th>1</th>\n",
       "      <td>Super Mario Bros.</td>\n",
       "      <td>NES</td>\n",
       "      <td>1985</td>\n",
       "      <td>Platform</td>\n",
       "      <td>29.08</td>\n",
       "      <td>3.58</td>\n",
       "      <td>6.81</td>\n",
       "      <td>0.77</td>\n",
       "      <td>68.967679</td>\n",
       "      <td>7.125046</td>\n",
       "      <td>NaN</td>\n",
       "      <td>40.24</td>\n",
       "    </tr>\n",
       "    <tr>\n",
       "      <th>2</th>\n",
       "      <td>Mario Kart Wii</td>\n",
       "      <td>Wii</td>\n",
       "      <td>2008</td>\n",
       "      <td>Racing</td>\n",
       "      <td>15.68</td>\n",
       "      <td>12.76</td>\n",
       "      <td>3.79</td>\n",
       "      <td>3.29</td>\n",
       "      <td>82.000000</td>\n",
       "      <td>8.300000</td>\n",
       "      <td>E</td>\n",
       "      <td>35.52</td>\n",
       "    </tr>\n",
       "    <tr>\n",
       "      <th>3</th>\n",
       "      <td>Wii Sports Resort</td>\n",
       "      <td>Wii</td>\n",
       "      <td>2009</td>\n",
       "      <td>Sports</td>\n",
       "      <td>15.61</td>\n",
       "      <td>10.93</td>\n",
       "      <td>3.28</td>\n",
       "      <td>2.95</td>\n",
       "      <td>80.000000</td>\n",
       "      <td>8.000000</td>\n",
       "      <td>E</td>\n",
       "      <td>32.77</td>\n",
       "    </tr>\n",
       "    <tr>\n",
       "      <th>4</th>\n",
       "      <td>Pokemon Red/Pokemon Blue</td>\n",
       "      <td>GB</td>\n",
       "      <td>1996</td>\n",
       "      <td>Role-Playing</td>\n",
       "      <td>11.27</td>\n",
       "      <td>8.89</td>\n",
       "      <td>10.22</td>\n",
       "      <td>1.00</td>\n",
       "      <td>68.967679</td>\n",
       "      <td>7.125046</td>\n",
       "      <td>NaN</td>\n",
       "      <td>31.38</td>\n",
       "    </tr>\n",
       "  </tbody>\n",
       "</table>\n",
       "</div>"
      ],
      "text/plain": [
       "                       name platform  year_of_release         genre  na_sales  \\\n",
       "0                Wii Sports      Wii             2006        Sports     41.36   \n",
       "1         Super Mario Bros.      NES             1985      Platform     29.08   \n",
       "2            Mario Kart Wii      Wii             2008        Racing     15.68   \n",
       "3         Wii Sports Resort      Wii             2009        Sports     15.61   \n",
       "4  Pokemon Red/Pokemon Blue       GB             1996  Role-Playing     11.27   \n",
       "\n",
       "   eu_sales  jp_sales  other_sales  critic_score  user_score rating  \\\n",
       "0     28.96      3.77         8.45     76.000000    8.000000      E   \n",
       "1      3.58      6.81         0.77     68.967679    7.125046    NaN   \n",
       "2     12.76      3.79         3.29     82.000000    8.300000      E   \n",
       "3     10.93      3.28         2.95     80.000000    8.000000      E   \n",
       "4      8.89     10.22         1.00     68.967679    7.125046    NaN   \n",
       "\n",
       "   total_sales  \n",
       "0        82.54  \n",
       "1        40.24  \n",
       "2        35.52  \n",
       "3        32.77  \n",
       "4        31.38  "
      ]
     },
     "execution_count": 13,
     "metadata": {},
     "output_type": "execute_result"
    }
   ],
   "source": [
    "# Suma de las ventas en todas las regiones y creamos una nueva columna llamada total_sales\n",
    "games['total_sales'] = games['na_sales'] + games['eu_sales'] + games['jp_sales'] + games['other_sales']\n",
    "games.head(5)"
   ]
  },
  {
   "cell_type": "markdown",
   "metadata": {},
   "source": [
    "<div class=\"alert alert-block alert-success\">\n",
    "<b>Comentario del revisor</b> <a class=\"tocSkip\"></a>\n",
    "\n",
    "Bien, se han calculado correctamente las métricas del paso 2\n",
    "</div>"
   ]
  },
  {
   "cell_type": "markdown",
   "metadata": {},
   "source": [
    "# 3. Analiza los datos"
   ]
  },
  {
   "cell_type": "code",
   "execution_count": 14,
   "metadata": {},
   "outputs": [
    {
     "name": "stdout",
     "output_type": "stream",
     "text": [
      "1980\n",
      "2016\n"
     ]
    }
   ],
   "source": [
    "#Primero vamos a conocer cual es el año mínimo y máximo para empezar su análisis\n",
    "year_min = games['year_of_release'].min()\n",
    "year_max = games['year_of_release'].max()\n",
    "print(year_min)\n",
    "print(year_max)"
   ]
  },
  {
   "cell_type": "code",
   "execution_count": 15,
   "metadata": {},
   "outputs": [
    {
     "name": "stdout",
     "output_type": "stream",
     "text": [
      "2008    1427\n",
      "2009    1426\n",
      "2010    1255\n",
      "2007    1197\n",
      "2011    1136\n",
      "2006    1006\n",
      "2005     939\n",
      "2002     829\n",
      "2003     775\n",
      "2004     762\n",
      "2012     653\n",
      "2015     606\n",
      "2014     581\n",
      "2013     544\n",
      "2016     502\n",
      "Name: year_of_release, dtype: int64\n"
     ]
    }
   ],
   "source": [
    "#Conocer por año la cantidad de juegos creados\n",
    "juegos_por_año = games['year_of_release'].value_counts().sort_index()\n",
    "juegos_por_año = juegos_por_año.sort_values(ascending=False)\n",
    "print(juegos_por_año.iloc[0:15])"
   ]
  },
  {
   "cell_type": "code",
   "execution_count": 28,
   "metadata": {},
   "outputs": [
    {
     "data": {
      "image/png": "[encoded data removed]",
      "text/plain": [
       "<Figure size 1000x600 with 1 Axes>"
      ]
     },
     "metadata": {},
     "output_type": "display_data"
    }
   ],
   "source": [
    "plt.figure(figsize=(10, 6))  # Tamaño más grande para mejor visualización\n",
    "juegos_por_año.plot(kind='bar')  # Tamaño más grande para mejor visualización\n",
    "\n",
    "# Etiquetas y título\n",
    "plt.title('Cantidad de Juegos Lanzados por Año', fontsize=14)\n",
    "plt.xlabel('Año de Lanzamiento', fontsize=12)\n",
    "plt.ylabel('Cantidad de Juegos', fontsize=12)\n",
    "\n",
    "plt.show()"
   ]
  },
  {
   "cell_type": "markdown",
   "metadata": {},
   "source": [
    "Al ver los valores por año, podemos identificar qué años tuvieron más lanzamientos. Esto puede ayudar a entender tendencias, como años en los que hubo una explosión de lanzamientos debido a la aparición de nuevas consolas o franquicias populares.\n",
    "\n",
    "Como podemos observar, los años con el mayor número de juegos lanzados fueron 2008, con 1,427 juegos, seguido de cerca por 2009, con 1,426 juegos."
   ]
  },
  {
   "cell_type": "markdown",
   "metadata": {},
   "source": [
    "<div class=\"alert alert-block alert-warning\">\n",
    "<b>Comentario del revisor</b> <a class=\"tocSkip\"></a>\n",
    "\n",
    "Se muestra correctamente la distribución de ventas a lo largo de los años de lanzamiento.\n",
    "\n",
    "Te recomiendo usar una gráfica para una mejor visualización de tu información\n",
    "</div>"
   ]
  },
  {
   "cell_type": "markdown",
   "metadata": {},
   "source": [
    "# Parte 3.1"
   ]
  },
  {
   "cell_type": "code",
   "execution_count": 49,
   "metadata": {},
   "outputs": [
    {
     "name": "stdout",
     "output_type": "stream",
     "text": [
      "                          total_sales\n",
      "platform year_of_release             \n",
      "PS2      2004                  211.81\n",
      "Wii      2009                  206.97\n",
      "PS2      2002                  205.38\n",
      "         2003                  184.31\n",
      "Wii      2008                  171.32\n",
      "...                               ...\n",
      "PC       1988                    0.03\n",
      "PCFX     1996                    0.03\n",
      "3DO      1994                    0.02\n",
      "DS       1985                    0.02\n",
      "DC       2007                    0.02\n",
      "\n",
      "[253 rows x 1 columns]\n"
     ]
    }
   ],
   "source": [
    "#Filtrar las columnas que necesitamos para conocer cuales son las plataformas con mayores ventas y como se distribuyen por años\n",
    "plataformas_top = games.groupby(['platform', 'year_of_release'])[['platform','total_sales']].sum()\n",
    "plataformas_top = plataformas_top.sort_values(by='total_sales', ascending=False)\n",
    "print(plataformas_top)"
   ]
  },
  {
   "cell_type": "markdown",
   "metadata": {},
   "source": [
    "Como podemos observar, en 2009, la plataforma con más ventas fue Wii, seguida durante tres años consecutivos por PS2, que lideró las ventas en 2002 y 2004."
   ]
  },
  {
   "cell_type": "code",
   "execution_count": 50,
   "metadata": {},
   "outputs": [
    {
     "name": "stdout",
     "output_type": "stream",
     "text": [
      "    platform\n",
      "0       2600\n",
      "10       3DO\n",
      "19        DC\n",
      "26        DS\n",
      "38        GB\n",
      "52       GBA\n",
      "61        GC\n",
      "69       GEN\n",
      "74        GG\n",
      "75       N64\n",
      "83       NES\n",
      "95        NG\n",
      "126     PCFX\n",
      "127       PS\n",
      "138      PS2\n",
      "187      SAT\n",
      "193      SCD\n",
      "195     SNES\n",
      "205     TG16\n",
      "206       WS\n",
      "239       XB\n"
     ]
    }
   ],
   "source": [
    "# Ahora conozcamos que plataformas solían ser populares pero que ahora no tienen ventas\n",
    "# Paso 1: Agrupar los datos por plataforma y año de lanzamiento, y sumar las ventas totales\n",
    "ventas_x_plataforma = games.groupby(['platform', 'year_of_release'])['total_sales'].sum().reset_index()\n",
    " # Paso 2: Filtrar las plataformas que tienen ventas en años pasados\n",
    "# Suponiendo que queremos ver plataformas que tuvieron ventas antes de 2010 pero no después\n",
    "ventas_anteriores = ventas_x_plataforma.query(\"year_of_release < 2010\") \n",
    "# Paso 3: Filtrar las plataformas que ya no tienen ventas en los últimos años (por ejemplo, 2015-2016)\n",
    "ventas_recientes = ventas_x_plataforma.query(\"year_of_release >= 2015\")\n",
    "# Identificar las plataformas que solían tener ventas pero no tienen en los últimos años\n",
    "plataformas_sin_ventas_recientes = ventas_anteriores[~ventas_anteriores['platform'].isin(ventas_recientes['platform'])]\n",
    "# Mostrar las plataformas sin ventas reciente\n",
    "print(plataformas_sin_ventas_recientes[['platform']].drop_duplicates())"
   ]
  },
  {
   "cell_type": "markdown",
   "metadata": {},
   "source": [
    "### Conclusiones\n",
    "\n",
    "Plataformas que solían ser populares pero que ahora no tienen ventas recientes:\n",
    "\n",
    "*2600\n",
    "*3DO\n",
    "*DC (Dreamcast)\n",
    "*DS\n",
    "*GB (GameBoy)\n",
    "*GBA (GameBoy Advance)\n",
    "*GC (GameCube)\n",
    "*GEN (Genesis)\n",
    "\n",
    "Estas plataformas, aunque tuvieron ventas en el pasado, ya no están generando ventas en los años recientes, lo que indica que han sido reemplazadas por nuevas generaciones de consolas o han quedado obsoletas en el mercado."
   ]
  },
  {
   "cell_type": "markdown",
   "metadata": {},
   "source": [
    "Aunque las plataformas de videojuegos más antiguas suelen ser reemplazadas por nuevas generaciones más rápidamente (entre 5-7 años en promedio), muchas de las plataformas más exitosas no desaparecen inmediatamente. En cambio, pueden persistir con un uso más reducido en mercados retro o nichos de coleccionistas. Esto alarga la vida de las plataformas.\n",
    "\n",
    "A menudo, las plataformas más antiguas no desaparecen de inmediato; primero se observa una disminución gradual en las ventas, seguida de una transición hacia nuevas generaciones, como lo que sucedió con la PS2 antes de la PS3 o el paso de GameBoy a Nintendo DS. Esto podría extender la relevancia de una plataforma hasta los 20 años en algunos casos."
   ]
  },
  {
   "cell_type": "markdown",
   "metadata": {},
   "source": [
    "<div class=\"alert alert-block alert-success\">\n",
    "<b>Comentario del revisor</b> <a class=\"tocSkip\"></a>\n",
    "\n",
    "Buenas conclusiones intermedias, este análisis está completo\n",
    "</div>"
   ]
  },
  {
   "cell_type": "markdown",
   "metadata": {},
   "source": [
    "# Pasos para definir el modelo de 2017\n",
    "\n",
    "## Definir el período de tiempo relevante para el modelo de 2017\n",
    "\n",
    "Como se menciona, necesitamos centrarnos en los datos de 2010 a 2017. Esto nos permitirá construir un modelo para 2017, basado en las plataformas relevantes y sus ventas en ese período.\n",
    "\n",
    "Los datos anteriores a 2010 no son necesarios, ya que no reflejan las tendencias más recientes y pueden sesgar el análisis."
   ]
  },
  {
   "cell_type": "markdown",
   "metadata": {},
   "source": [
    "## Filtrar los datos relevantes"
   ]
  },
  {
   "cell_type": "code",
   "execution_count": 51,
   "metadata": {},
   "outputs": [
    {
     "data": {
      "text/html": [
       "<div>\n",
       "<style scoped>\n",
       "    .dataframe tbody tr th:only-of-type {\n",
       "        vertical-align: middle;\n",
       "    }\n",
       "\n",
       "    .dataframe tbody tr th {\n",
       "        vertical-align: top;\n",
       "    }\n",
       "\n",
       "    .dataframe thead th {\n",
       "        text-align: right;\n",
       "    }\n",
       "</style>\n",
       "<table border=\"1\" class=\"dataframe\">\n",
       "  <thead>\n",
       "    <tr style=\"text-align: right;\">\n",
       "      <th></th>\n",
       "      <th>name</th>\n",
       "      <th>platform</th>\n",
       "      <th>year_of_release</th>\n",
       "      <th>total_sales</th>\n",
       "      <th>genre</th>\n",
       "      <th>critic_score</th>\n",
       "      <th>user_score</th>\n",
       "      <th>na_sales</th>\n",
       "      <th>eu_sales</th>\n",
       "      <th>jp_sales</th>\n",
       "      <th>rating</th>\n",
       "    </tr>\n",
       "  </thead>\n",
       "  <tbody>\n",
       "    <tr>\n",
       "      <th>14</th>\n",
       "      <td>Kinect Adventures!</td>\n",
       "      <td>X360</td>\n",
       "      <td>2010</td>\n",
       "      <td>21.82</td>\n",
       "      <td>Misc</td>\n",
       "      <td>61.000000</td>\n",
       "      <td>6.300000</td>\n",
       "      <td>15.00</td>\n",
       "      <td>4.89</td>\n",
       "      <td>0.24</td>\n",
       "      <td>E</td>\n",
       "    </tr>\n",
       "    <tr>\n",
       "      <th>16</th>\n",
       "      <td>Grand Theft Auto V</td>\n",
       "      <td>PS3</td>\n",
       "      <td>2013</td>\n",
       "      <td>21.05</td>\n",
       "      <td>Action</td>\n",
       "      <td>97.000000</td>\n",
       "      <td>8.200000</td>\n",
       "      <td>7.02</td>\n",
       "      <td>9.09</td>\n",
       "      <td>0.98</td>\n",
       "      <td>M</td>\n",
       "    </tr>\n",
       "    <tr>\n",
       "      <th>23</th>\n",
       "      <td>Grand Theft Auto V</td>\n",
       "      <td>X360</td>\n",
       "      <td>2013</td>\n",
       "      <td>16.27</td>\n",
       "      <td>Action</td>\n",
       "      <td>97.000000</td>\n",
       "      <td>8.100000</td>\n",
       "      <td>9.66</td>\n",
       "      <td>5.14</td>\n",
       "      <td>0.06</td>\n",
       "      <td>M</td>\n",
       "    </tr>\n",
       "    <tr>\n",
       "      <th>27</th>\n",
       "      <td>Pokemon Black/Pokemon White</td>\n",
       "      <td>DS</td>\n",
       "      <td>2010</td>\n",
       "      <td>15.13</td>\n",
       "      <td>Role-Playing</td>\n",
       "      <td>68.967679</td>\n",
       "      <td>7.125046</td>\n",
       "      <td>5.51</td>\n",
       "      <td>3.17</td>\n",
       "      <td>5.65</td>\n",
       "      <td>NaN</td>\n",
       "    </tr>\n",
       "    <tr>\n",
       "      <th>29</th>\n",
       "      <td>Call of Duty: Modern Warfare 3</td>\n",
       "      <td>X360</td>\n",
       "      <td>2011</td>\n",
       "      <td>14.73</td>\n",
       "      <td>Shooter</td>\n",
       "      <td>88.000000</td>\n",
       "      <td>3.400000</td>\n",
       "      <td>9.04</td>\n",
       "      <td>4.24</td>\n",
       "      <td>0.13</td>\n",
       "      <td>M</td>\n",
       "    </tr>\n",
       "    <tr>\n",
       "      <th>...</th>\n",
       "      <td>...</td>\n",
       "      <td>...</td>\n",
       "      <td>...</td>\n",
       "      <td>...</td>\n",
       "      <td>...</td>\n",
       "      <td>...</td>\n",
       "      <td>...</td>\n",
       "      <td>...</td>\n",
       "      <td>...</td>\n",
       "      <td>...</td>\n",
       "      <td>...</td>\n",
       "    </tr>\n",
       "    <tr>\n",
       "      <th>16703</th>\n",
       "      <td>Strawberry Nauts</td>\n",
       "      <td>PSV</td>\n",
       "      <td>2016</td>\n",
       "      <td>0.01</td>\n",
       "      <td>Adventure</td>\n",
       "      <td>68.967679</td>\n",
       "      <td>7.125046</td>\n",
       "      <td>0.00</td>\n",
       "      <td>0.00</td>\n",
       "      <td>0.01</td>\n",
       "      <td>NaN</td>\n",
       "    </tr>\n",
       "    <tr>\n",
       "      <th>16707</th>\n",
       "      <td>Aiyoku no Eustia</td>\n",
       "      <td>PSV</td>\n",
       "      <td>2014</td>\n",
       "      <td>0.01</td>\n",
       "      <td>Misc</td>\n",
       "      <td>68.967679</td>\n",
       "      <td>7.125046</td>\n",
       "      <td>0.00</td>\n",
       "      <td>0.00</td>\n",
       "      <td>0.01</td>\n",
       "      <td>NaN</td>\n",
       "    </tr>\n",
       "    <tr>\n",
       "      <th>16710</th>\n",
       "      <td>Samurai Warriors: Sanada Maru</td>\n",
       "      <td>PS3</td>\n",
       "      <td>2016</td>\n",
       "      <td>0.01</td>\n",
       "      <td>Action</td>\n",
       "      <td>68.967679</td>\n",
       "      <td>7.125046</td>\n",
       "      <td>0.00</td>\n",
       "      <td>0.00</td>\n",
       "      <td>0.01</td>\n",
       "      <td>NaN</td>\n",
       "    </tr>\n",
       "    <tr>\n",
       "      <th>16712</th>\n",
       "      <td>Haitaka no Psychedelica</td>\n",
       "      <td>PSV</td>\n",
       "      <td>2016</td>\n",
       "      <td>0.01</td>\n",
       "      <td>Adventure</td>\n",
       "      <td>68.967679</td>\n",
       "      <td>7.125046</td>\n",
       "      <td>0.00</td>\n",
       "      <td>0.00</td>\n",
       "      <td>0.01</td>\n",
       "      <td>NaN</td>\n",
       "    </tr>\n",
       "    <tr>\n",
       "      <th>16714</th>\n",
       "      <td>Winning Post 8 2016</td>\n",
       "      <td>PSV</td>\n",
       "      <td>2016</td>\n",
       "      <td>0.01</td>\n",
       "      <td>Simulation</td>\n",
       "      <td>68.967679</td>\n",
       "      <td>7.125046</td>\n",
       "      <td>0.00</td>\n",
       "      <td>0.00</td>\n",
       "      <td>0.01</td>\n",
       "      <td>NaN</td>\n",
       "    </tr>\n",
       "  </tbody>\n",
       "</table>\n",
       "<p>5277 rows × 11 columns</p>\n",
       "</div>"
      ],
      "text/plain": [
       "                                 name platform  year_of_release  total_sales  \\\n",
       "14                 Kinect Adventures!     X360             2010        21.82   \n",
       "16                 Grand Theft Auto V      PS3             2013        21.05   \n",
       "23                 Grand Theft Auto V     X360             2013        16.27   \n",
       "27        Pokemon Black/Pokemon White       DS             2010        15.13   \n",
       "29     Call of Duty: Modern Warfare 3     X360             2011        14.73   \n",
       "...                               ...      ...              ...          ...   \n",
       "16703                Strawberry Nauts      PSV             2016         0.01   \n",
       "16707                Aiyoku no Eustia      PSV             2014         0.01   \n",
       "16710   Samurai Warriors: Sanada Maru      PS3             2016         0.01   \n",
       "16712         Haitaka no Psychedelica      PSV             2016         0.01   \n",
       "16714             Winning Post 8 2016      PSV             2016         0.01   \n",
       "\n",
       "              genre  critic_score  user_score  na_sales  eu_sales  jp_sales  \\\n",
       "14             Misc     61.000000    6.300000     15.00      4.89      0.24   \n",
       "16           Action     97.000000    8.200000      7.02      9.09      0.98   \n",
       "23           Action     97.000000    8.100000      9.66      5.14      0.06   \n",
       "27     Role-Playing     68.967679    7.125046      5.51      3.17      5.65   \n",
       "29          Shooter     88.000000    3.400000      9.04      4.24      0.13   \n",
       "...             ...           ...         ...       ...       ...       ...   \n",
       "16703     Adventure     68.967679    7.125046      0.00      0.00      0.01   \n",
       "16707          Misc     68.967679    7.125046      0.00      0.00      0.01   \n",
       "16710        Action     68.967679    7.125046      0.00      0.00      0.01   \n",
       "16712     Adventure     68.967679    7.125046      0.00      0.00      0.01   \n",
       "16714    Simulation     68.967679    7.125046      0.00      0.00      0.01   \n",
       "\n",
       "      rating  \n",
       "14         E  \n",
       "16         M  \n",
       "23         M  \n",
       "27       NaN  \n",
       "29         M  \n",
       "...      ...  \n",
       "16703    NaN  \n",
       "16707    NaN  \n",
       "16710    NaN  \n",
       "16712    NaN  \n",
       "16714    NaN  \n",
       "\n",
       "[5277 rows x 11 columns]"
      ]
     },
     "execution_count": 51,
     "metadata": {},
     "output_type": "execute_result"
    }
   ],
   "source": [
    "# Filtrar los datos entre 2010 a 2016\n",
    "new_games_list = games.loc[:,['name', 'platform', 'year_of_release', 'total_sales', 'genre', 'critic_score', 'user_score', 'na_sales', 'eu_sales', 'jp_sales', 'rating']]\n",
    "new_games_list = new_games_list.query(\"year_of_release >= 2010 and year_of_release <=2016\")\n",
    "new_games_list"
   ]
  },
  {
   "cell_type": "code",
   "execution_count": 52,
   "metadata": {},
   "outputs": [
    {
     "name": "stdout",
     "output_type": "stream",
     "text": [
      "<class 'pandas.core.frame.DataFrame'>\n",
      "Int64Index: 5277 entries, 14 to 16714\n",
      "Data columns (total 11 columns):\n",
      " #   Column           Non-Null Count  Dtype  \n",
      "---  ------           --------------  -----  \n",
      " 0   name             5277 non-null   object \n",
      " 1   platform         5277 non-null   object \n",
      " 2   year_of_release  5277 non-null   int64  \n",
      " 3   total_sales      5277 non-null   float64\n",
      " 4   genre            5277 non-null   object \n",
      " 5   critic_score     5277 non-null   float64\n",
      " 6   user_score       5277 non-null   float64\n",
      " 7   na_sales         5277 non-null   float64\n",
      " 8   eu_sales         5277 non-null   float64\n",
      " 9   jp_sales         5277 non-null   float64\n",
      " 10  rating           3113 non-null   object \n",
      "dtypes: float64(6), int64(1), object(4)\n",
      "memory usage: 494.7+ KB\n"
     ]
    }
   ],
   "source": [
    "new_games_list.info()"
   ]
  },
  {
   "cell_type": "markdown",
   "metadata": {},
   "source": [
    "## Conocer los líderes en ventas"
   ]
  },
  {
   "cell_type": "code",
   "execution_count": 53,
   "metadata": {},
   "outputs": [
    {
     "name": "stdout",
     "output_type": "stream",
     "text": [
      "platform\n",
      "PS3     587.74\n",
      "X360    550.41\n",
      "PS4     314.14\n",
      "3DS     257.81\n",
      "Wii     222.97\n",
      "XOne    159.32\n",
      "DS      123.75\n",
      "PC      121.96\n",
      "WiiU     82.19\n",
      "PSP      64.05\n",
      "PSV      53.81\n",
      "PS2       6.09\n",
      "Name: total_sales, dtype: float64\n"
     ]
    }
   ],
   "source": [
    "# 3. Conocer los líderes en ventas \n",
    "new_ventas_games = new_games_list.groupby('platform')['total_sales'].sum().sort_values(ascending=False)\n",
    "print(new_ventas_games)"
   ]
  },
  {
   "cell_type": "code",
   "execution_count": 54,
   "metadata": {},
   "outputs": [
    {
     "data": {
      "text/html": [
       "<div>\n",
       "<style scoped>\n",
       "    .dataframe tbody tr th:only-of-type {\n",
       "        vertical-align: middle;\n",
       "    }\n",
       "\n",
       "    .dataframe tbody tr th {\n",
       "        vertical-align: top;\n",
       "    }\n",
       "\n",
       "    .dataframe thead th {\n",
       "        text-align: right;\n",
       "    }\n",
       "</style>\n",
       "<table border=\"1\" class=\"dataframe\">\n",
       "  <thead>\n",
       "    <tr style=\"text-align: right;\">\n",
       "      <th></th>\n",
       "      <th>name</th>\n",
       "      <th>platform</th>\n",
       "      <th>year_of_release</th>\n",
       "      <th>total_sales</th>\n",
       "      <th>genre</th>\n",
       "      <th>critic_score</th>\n",
       "      <th>user_score</th>\n",
       "      <th>na_sales</th>\n",
       "      <th>eu_sales</th>\n",
       "      <th>jp_sales</th>\n",
       "      <th>rating</th>\n",
       "    </tr>\n",
       "  </thead>\n",
       "  <tbody>\n",
       "    <tr>\n",
       "      <th>14</th>\n",
       "      <td>Kinect Adventures!</td>\n",
       "      <td>X360</td>\n",
       "      <td>2010</td>\n",
       "      <td>21.82</td>\n",
       "      <td>Misc</td>\n",
       "      <td>61.000000</td>\n",
       "      <td>6.300000</td>\n",
       "      <td>15.00</td>\n",
       "      <td>4.89</td>\n",
       "      <td>0.24</td>\n",
       "      <td>E</td>\n",
       "    </tr>\n",
       "    <tr>\n",
       "      <th>16</th>\n",
       "      <td>Grand Theft Auto V</td>\n",
       "      <td>PS3</td>\n",
       "      <td>2013</td>\n",
       "      <td>21.05</td>\n",
       "      <td>Action</td>\n",
       "      <td>97.000000</td>\n",
       "      <td>8.200000</td>\n",
       "      <td>7.02</td>\n",
       "      <td>9.09</td>\n",
       "      <td>0.98</td>\n",
       "      <td>M</td>\n",
       "    </tr>\n",
       "    <tr>\n",
       "      <th>23</th>\n",
       "      <td>Grand Theft Auto V</td>\n",
       "      <td>X360</td>\n",
       "      <td>2013</td>\n",
       "      <td>16.27</td>\n",
       "      <td>Action</td>\n",
       "      <td>97.000000</td>\n",
       "      <td>8.100000</td>\n",
       "      <td>9.66</td>\n",
       "      <td>5.14</td>\n",
       "      <td>0.06</td>\n",
       "      <td>M</td>\n",
       "    </tr>\n",
       "    <tr>\n",
       "      <th>27</th>\n",
       "      <td>Pokemon Black/Pokemon White</td>\n",
       "      <td>DS</td>\n",
       "      <td>2010</td>\n",
       "      <td>15.13</td>\n",
       "      <td>Role-Playing</td>\n",
       "      <td>68.967679</td>\n",
       "      <td>7.125046</td>\n",
       "      <td>5.51</td>\n",
       "      <td>3.17</td>\n",
       "      <td>5.65</td>\n",
       "      <td>NaN</td>\n",
       "    </tr>\n",
       "    <tr>\n",
       "      <th>29</th>\n",
       "      <td>Call of Duty: Modern Warfare 3</td>\n",
       "      <td>X360</td>\n",
       "      <td>2011</td>\n",
       "      <td>14.73</td>\n",
       "      <td>Shooter</td>\n",
       "      <td>88.000000</td>\n",
       "      <td>3.400000</td>\n",
       "      <td>9.04</td>\n",
       "      <td>4.24</td>\n",
       "      <td>0.13</td>\n",
       "      <td>M</td>\n",
       "    </tr>\n",
       "    <tr>\n",
       "      <th>...</th>\n",
       "      <td>...</td>\n",
       "      <td>...</td>\n",
       "      <td>...</td>\n",
       "      <td>...</td>\n",
       "      <td>...</td>\n",
       "      <td>...</td>\n",
       "      <td>...</td>\n",
       "      <td>...</td>\n",
       "      <td>...</td>\n",
       "      <td>...</td>\n",
       "      <td>...</td>\n",
       "    </tr>\n",
       "    <tr>\n",
       "      <th>16691</th>\n",
       "      <td>Dynasty Warriors: Eiketsuden</td>\n",
       "      <td>PS3</td>\n",
       "      <td>2016</td>\n",
       "      <td>0.01</td>\n",
       "      <td>Action</td>\n",
       "      <td>68.967679</td>\n",
       "      <td>7.125046</td>\n",
       "      <td>0.00</td>\n",
       "      <td>0.00</td>\n",
       "      <td>0.01</td>\n",
       "      <td>NaN</td>\n",
       "    </tr>\n",
       "    <tr>\n",
       "      <th>16692</th>\n",
       "      <td>Metal Gear Solid V: Ground Zeroes</td>\n",
       "      <td>PC</td>\n",
       "      <td>2014</td>\n",
       "      <td>0.01</td>\n",
       "      <td>Action</td>\n",
       "      <td>80.000000</td>\n",
       "      <td>7.600000</td>\n",
       "      <td>0.00</td>\n",
       "      <td>0.01</td>\n",
       "      <td>0.00</td>\n",
       "      <td>M</td>\n",
       "    </tr>\n",
       "    <tr>\n",
       "      <th>16696</th>\n",
       "      <td>Breach</td>\n",
       "      <td>PC</td>\n",
       "      <td>2011</td>\n",
       "      <td>0.01</td>\n",
       "      <td>Shooter</td>\n",
       "      <td>61.000000</td>\n",
       "      <td>5.800000</td>\n",
       "      <td>0.01</td>\n",
       "      <td>0.00</td>\n",
       "      <td>0.00</td>\n",
       "      <td>T</td>\n",
       "    </tr>\n",
       "    <tr>\n",
       "      <th>16702</th>\n",
       "      <td>STORM: Frontline Nation</td>\n",
       "      <td>PC</td>\n",
       "      <td>2011</td>\n",
       "      <td>0.01</td>\n",
       "      <td>Strategy</td>\n",
       "      <td>60.000000</td>\n",
       "      <td>7.200000</td>\n",
       "      <td>0.00</td>\n",
       "      <td>0.01</td>\n",
       "      <td>0.00</td>\n",
       "      <td>E10+</td>\n",
       "    </tr>\n",
       "    <tr>\n",
       "      <th>16710</th>\n",
       "      <td>Samurai Warriors: Sanada Maru</td>\n",
       "      <td>PS3</td>\n",
       "      <td>2016</td>\n",
       "      <td>0.01</td>\n",
       "      <td>Action</td>\n",
       "      <td>68.967679</td>\n",
       "      <td>7.125046</td>\n",
       "      <td>0.00</td>\n",
       "      <td>0.00</td>\n",
       "      <td>0.01</td>\n",
       "      <td>NaN</td>\n",
       "    </tr>\n",
       "  </tbody>\n",
       "</table>\n",
       "<p>4156 rows × 11 columns</p>\n",
       "</div>"
      ],
      "text/plain": [
       "                                    name platform  year_of_release  \\\n",
       "14                    Kinect Adventures!     X360             2010   \n",
       "16                    Grand Theft Auto V      PS3             2013   \n",
       "23                    Grand Theft Auto V     X360             2013   \n",
       "27           Pokemon Black/Pokemon White       DS             2010   \n",
       "29        Call of Duty: Modern Warfare 3     X360             2011   \n",
       "...                                  ...      ...              ...   \n",
       "16691       Dynasty Warriors: Eiketsuden      PS3             2016   \n",
       "16692  Metal Gear Solid V: Ground Zeroes       PC             2014   \n",
       "16696                             Breach       PC             2011   \n",
       "16702            STORM: Frontline Nation       PC             2011   \n",
       "16710      Samurai Warriors: Sanada Maru      PS3             2016   \n",
       "\n",
       "       total_sales         genre  critic_score  user_score  na_sales  \\\n",
       "14           21.82          Misc     61.000000    6.300000     15.00   \n",
       "16           21.05        Action     97.000000    8.200000      7.02   \n",
       "23           16.27        Action     97.000000    8.100000      9.66   \n",
       "27           15.13  Role-Playing     68.967679    7.125046      5.51   \n",
       "29           14.73       Shooter     88.000000    3.400000      9.04   \n",
       "...            ...           ...           ...         ...       ...   \n",
       "16691         0.01        Action     68.967679    7.125046      0.00   \n",
       "16692         0.01        Action     80.000000    7.600000      0.00   \n",
       "16696         0.01       Shooter     61.000000    5.800000      0.01   \n",
       "16702         0.01      Strategy     60.000000    7.200000      0.00   \n",
       "16710         0.01        Action     68.967679    7.125046      0.00   \n",
       "\n",
       "       eu_sales  jp_sales rating  \n",
       "14         4.89      0.24      E  \n",
       "16         9.09      0.98      M  \n",
       "23         5.14      0.06      M  \n",
       "27         3.17      5.65    NaN  \n",
       "29         4.24      0.13      M  \n",
       "...         ...       ...    ...  \n",
       "16691      0.00      0.01    NaN  \n",
       "16692      0.01      0.00      M  \n",
       "16696      0.00      0.00      T  \n",
       "16702      0.01      0.00   E10+  \n",
       "16710      0.00      0.01    NaN  \n",
       "\n",
       "[4156 rows x 11 columns]"
      ]
     },
     "execution_count": 54,
     "metadata": {},
     "output_type": "execute_result"
    }
   ],
   "source": [
    "# Crear una lista de plataformas relevantes (sin PS2)\n",
    "plataformas = ['X360', 'PS3', 'PS4', '3DS', 'Wii', 'XOne', 'DS', 'PC']\n",
    "\n",
    "# Filtrar el DataFrame para estas plataformas\n",
    "plataformas_relevantes = new_games_list[new_games_list['platform'].isin(plataformas)]\n",
    "\n",
    "plataformas_relevantes"
   ]
  },
  {
   "cell_type": "code",
   "execution_count": 55,
   "metadata": {},
   "outputs": [
    {
     "name": "stdout",
     "output_type": "stream",
     "text": [
      "platform\n",
      "PS3     587.74\n",
      "X360    550.41\n",
      "PS4     314.14\n",
      "3DS     257.81\n",
      "Wii     222.97\n",
      "XOne    159.32\n",
      "DS      123.75\n",
      "PC      121.96\n",
      "Name: total_sales, dtype: float64\n"
     ]
    }
   ],
   "source": [
    "# Agrupar por plataforma y sumar las ventas totales\n",
    "ventas_totales = plataformas_relevantes.groupby('platform')['total_sales'].sum().sort_values(ascending=False)\n",
    "\n",
    "# Mostrar las plataformas más rentables (con más ventas)\n",
    "print(ventas_totales)"
   ]
  },
  {
   "cell_type": "markdown",
   "metadata": {},
   "source": [
    "<div class=\"alert alert-block alert-success\">\n",
    "<b>Comentario del revisor</b> <a class=\"tocSkip\"></a>\n",
    "\n",
    "Bien, se obtuvieron correctamente las consolas más rentables\n",
    "</div>"
   ]
  },
  {
   "cell_type": "code",
   "execution_count": 56,
   "metadata": {},
   "outputs": [
    {
     "data": {
      "image/png": "[encoded data removed]",
      "text/plain": [
       "<Figure size 1000x600 with 1 Axes>"
      ]
     },
     "metadata": {},
     "output_type": "display_data"
    }
   ],
   "source": [
    "# Trazar un diagrama de caja para las ventas globales de todos los juegos, desglozados por plataforma\n",
    "plt.figure(figsize=(10,6))\n",
    "sns.boxplot(data=plataformas_relevantes, x='platform', y='total_sales')\n",
    "# Etiquetas y título\n",
    "plt.title('Ventas globales de juegos por plataforma', fontsize=15)\n",
    "plt.xlabel('Plataformas más ', fontsize=12)\n",
    "plt.ylabel('Ventas Totales', fontsize=12)\n",
    "\n",
    "# Mostrar el gráfico\n",
    "plt.xticks(rotation=45)  # Rotar etiquetas del eje X para mejor visualización\n",
    "plt.show()"
   ]
  },
  {
   "cell_type": "markdown",
   "metadata": {},
   "source": [
    "<div class=\"alert alert-block alert-success\">\n",
    "<b>Comentario del revisor</b> <a class=\"tocSkip\"></a>\n",
    "\n",
    "Buen trabajo, los boxplots están bien realizados\n",
    "</div>"
   ]
  },
  {
   "cell_type": "markdown",
   "metadata": {},
   "source": [
    "El diagrama de caja de las ventas globales de juegos por plataforma revela diferencias significativas en las ventas entre las plataformas analizadas:\n",
    "\n",
    "Las plataformas X360, PS3, PS4 y XOne destacan por tener las ventas promedio más altas. Estas plataformas también muestran una mayor variabilidad en las ventas, como lo indican las cajas más altas y los puntos dispersos fuera de los bigotes. Esto sugiere que, aunque la mayoría de los juegos en estas plataformas tienen un buen desempeño, también hay algunos juegos que han tenido un rendimiento excepcional.\n",
    "\n",
    "Los puntos dispersos fuera de las cajas indican que en plataformas como X360, PS3, PS4, y XOne existen juegos que han alcanzado ventas significativamente altas en comparación con la mayoría de los juegos en estas plataformas.\n",
    "\n",
    "Por otro lado, DS, PC, y Wii muestran cajas más pequeñas, lo que indica una concentración de ventas en un rango más bajo y, en general, ventas más consistentes pero bajas comparadas con las plataformas líderes.\n",
    "\n",
    "En resumen, las plataformas con más ventas como X360, PS3, PS4, y XOne tienen un desempeño destacado en comparación con otras como DS y PC, que no muestran el mismo nivel de éxito en ventas durante el período analizado."
   ]
  },
  {
   "cell_type": "code",
   "execution_count": 57,
   "metadata": {},
   "outputs": [
    {
     "data": {
      "image/png": "[encoded data removed]",
      "text/plain": [
       "<Figure size 640x480 with 1 Axes>"
      ]
     },
     "metadata": {},
     "output_type": "display_data"
    }
   ],
   "source": [
    "#Crea un gráfico de dispersión y calcula la correlación entre las reseñas y las ventas\n",
    "new_games_list.plot(x='critic_score', y='total_sales', kind='scatter', rot=45)\n",
    "plt.title('Gráfica de dispersión: Reseña crítica vs Ventas Totales')\n",
    "plt.xlabel('Critic Score')\n",
    "plt.ylabel('Total Sales')\n",
    "plt.show()"
   ]
  },
  {
   "cell_type": "markdown",
   "metadata": {},
   "source": [
    "<div class=\"alert alert-block alert-success\">\n",
    "<b>Comentario del revisor</b> <a class=\"tocSkip\"></a>\n",
    "\n",
    "Bien, la correlación de las ventas con las críticas ayuda a comprender mejor la relación entre las puntuaciones y las ventas que podría llegar a tener un producto\n",
    "</div>"
   ]
  },
  {
   "cell_type": "markdown",
   "metadata": {},
   "source": [
    "Crea un gráfico de dispersión y calcula la correlación entre las reseñas y las ventas. Saca conclusiones.\n",
    "Teniendo en cuenta tus conclusiones compara las ventas de los mismos juegos en otras plataformas.\n",
    "Echa un vistazo a la distribución general de los juegos por género. ¿Qué se puede decir de los géneros más rentables? ¿Puedes generalizar acerca de los géneros con ventas altas y bajas?"
   ]
  },
  {
   "cell_type": "code",
   "execution_count": 58,
   "metadata": {},
   "outputs": [
    {
     "name": "stdout",
     "output_type": "stream",
     "text": [
      "0.28774972416772737\n"
     ]
    }
   ],
   "source": [
    "correlacion = new_games_list['critic_score'].corr(new_games_list['total_sales'])\n",
    "print(correlacion)"
   ]
  },
  {
   "cell_type": "markdown",
   "metadata": {},
   "source": [
    "La correlación de 0.29 muestra que no hay una fuerte relación entre las calificaciones críticas y las ventas totales. Muchos juegos con bajas calificaciones pueden tener ventas bajas o altas. Por otro lado, algunos juegos con altas calificaciones no necesariamente tienen altas ventas, lo que indica que otros factores también pueden estar influyendo en las ventas (como la marca del juego, la campaña de marketing, la base de fans, etc.)"
   ]
  },
  {
   "cell_type": "code",
   "execution_count": 59,
   "metadata": {},
   "outputs": [],
   "source": [
    "# Agrupar por género y sumar las ventas totales\n",
    "ventas_por_genero = new_games_list.groupby('genre')['total_sales'].sum().sort_values(ascending=False)"
   ]
  },
  {
   "cell_type": "code",
   "execution_count": 60,
   "metadata": {},
   "outputs": [
    {
     "data": {
      "image/png": "[encoded data removed]",
      "text/plain": [
       "<Figure size 1000x600 with 1 Axes>"
      ]
     },
     "metadata": {},
     "output_type": "display_data"
    }
   ],
   "source": [
    "# Mostrar el gráfico de barras para la distribución de ventas por género\n",
    "ventas_por_genero.plot(kind='bar', figsize=(10, 6), color='skyblue')\n",
    "\n",
    "# Títulos y etiquetas\n",
    "plt.title('Distribución de Ventas por Género')\n",
    "plt.xlabel('Género')\n",
    "plt.ylabel('Ventas Totales')\n",
    "plt.xticks(rotation=45)\n",
    "plt.show()"
   ]
  },
  {
   "cell_type": "markdown",
   "metadata": {},
   "source": [
    "Como podemos ver en el gráfico, Acción es el género que más se vende, con una diferencia notable respecto a los demás. Este género claramente domina las ventas, lo que probablemente se debe a la popularidad de los juegos de acción, que suelen atraer a una gran cantidad de jugadores.\n",
    "\n",
    "Después de Acción, el siguiente género más vendido es Shooter. Aunque también tiene buenas ventas, la brecha con Acción es bastante grande. Esto indica que, aunque los juegos de disparos son muy populares, Acción sigue siendo el preferido por la mayoría.\n",
    "\n",
    "En el medio tenemos géneros como Deportes, Role-Playing y Misc. Estos géneros tienen ventas moderadas, lo que sugiere que siguen siendo populares pero no al mismo nivel que los dos primeros.\n",
    "\n",
    "Finalmente, los géneros como Estrategia, Aventura, Simulación, Peleas y Rompecabezas tienen ventas más bajas. Estos géneros parecen estar dirigidos a un público más específico, lo que puede explicar su menor volumen de ventas."
   ]
  },
  {
   "cell_type": "markdown",
   "metadata": {},
   "source": [
    "<div class=\"alert alert-block alert-success\">\n",
    "<b>Comentario del revisor</b> <a class=\"tocSkip\"></a>\n",
    "\n",
    "Bien hecho, este análisis de géneros está bastante completo y bien realizado\n",
    "</div>"
   ]
  },
  {
   "cell_type": "markdown",
   "metadata": {},
   "source": [
    "# 4. Crea un perfil de usuario para cada región"
   ]
  },
  {
   "cell_type": "markdown",
   "metadata": {},
   "source": [
    "## Ventas por región & plataformas"
   ]
  },
  {
   "cell_type": "code",
   "execution_count": 61,
   "metadata": {},
   "outputs": [
    {
     "name": "stdout",
     "output_type": "stream",
     "text": [
      "platform\n",
      "X360    334.18\n",
      "PS3     229.25\n",
      "Wii     121.20\n",
      "PS4     108.74\n",
      "XOne     93.12\n",
      "Name: na_sales, dtype: float64\n",
      "\n",
      "platform\n",
      "PS3     213.60\n",
      "X360    163.41\n",
      "PS4     141.09\n",
      "PC       68.82\n",
      "Wii      65.91\n",
      "Name: eu_sales, dtype: float64\n",
      "\n",
      "platform\n",
      "3DS    100.62\n",
      "PS3     59.26\n",
      "PSP     42.20\n",
      "DS      27.90\n",
      "PSV     21.84\n",
      "Name: jp_sales, dtype: float64\n"
     ]
    }
   ],
   "source": [
    "# Ventas por región & plataforma\n",
    "def plataformas(df, sales):\n",
    "    return df.groupby('platform')[sales].sum().sort_values(ascending=False)\n",
    "\n",
    "na_plataformas = plataformas(new_games_list, 'na_sales')\n",
    "eu_plataformas = plataformas(new_games_list, 'eu_sales')\n",
    "jp_plataformas = plataformas(new_games_list, 'jp_sales')\n",
    "\n",
    "#Imprimir las 5 plataformas con mas ventas\n",
    "print(na_plataformas.iloc[0:5])\n",
    "print()\n",
    "print(eu_plataformas.iloc[0:5])\n",
    "print()\n",
    "print(jp_plataformas.iloc[0:5])"
   ]
  },
  {
   "cell_type": "markdown",
   "metadata": {},
   "source": [
    "<div class=\"alert alert-block alert-success\">\n",
    "<b>Comentario del revisor</b> <a class=\"tocSkip\"></a>\n",
    "\n",
    "Perfecto, excelente uso de los prints para mostrar los resultados de los análisis.\n",
    "</div>"
   ]
  },
  {
   "cell_type": "code",
   "execution_count": 62,
   "metadata": {},
   "outputs": [
    {
     "name": "stdout",
     "output_type": "stream",
     "text": [
      "Desviación estandar de Norteamérica:  98.42110439408566\n",
      "\n",
      "Desviación estandar de Europa:  67.69625885437702\n",
      "\n",
      "Desviación estandar de Japón:  29.669049325497262\n"
     ]
    }
   ],
   "source": [
    "# Sacar la desviación estandar para ver la dispersión de los datos\n",
    "std_na_plataforma = na_plataformas.std()\n",
    "std_eu_plataforma = eu_plataformas.std()\n",
    "std_jp_plataforma = jp_plataformas.std()\n",
    "\n",
    "print('Desviación estandar de Norteamérica: ', std_na_plataforma)\n",
    "print()\n",
    "print('Desviación estandar de Europa: ', std_eu_plataforma)\n",
    "print()\n",
    "print('Desviación estandar de Japón: ', std_jp_plataforma)"
   ]
  },
  {
   "cell_type": "markdown",
   "metadata": {},
   "source": [
    "# Conclusiones\n",
    "\n",
    "El análisis de ventas por plataforma revela importantes diferencias entre las regiones. Norteamérica presenta una desviación estándar de 98.42, lo que indica gran variabilidad en las ventas entre plataformas. Las consolas X360 y PS3 siguen dominando, mientras que PS4 y XOne presentan un rendimiento inferior, lo que contribuye a la dispersión de los datos. En Europa, la desviación estándar es 67.70, lo que sugiere una distribución más homogénea en comparación con NA, aunque persiste cierta variabilidad, principalmente por las ventas de PS3 y X360. Por otro lado, Japón tiene la desviación estándar más baja con 29.67, lo que indica ventas más consistentes y una clara dominancia de 3DS, seguida de cerca por PS3, con menos variabilidad entre las plataformas."
   ]
  },
  {
   "cell_type": "markdown",
   "metadata": {},
   "source": [
    "<div class=\"alert alert-block alert-success\">\n",
    "<b>Comentario del revisor</b> <a class=\"tocSkip\"></a>\n",
    "\n",
    "Buenas conclusiones intermedias, la desviación estandas nos sugiere mucha información sobre las preferencias de cada región.\n",
    "</div>"
   ]
  },
  {
   "cell_type": "markdown",
   "metadata": {},
   "source": [
    "## Ventas por región & género"
   ]
  },
  {
   "cell_type": "code",
   "execution_count": 63,
   "metadata": {},
   "outputs": [
    {
     "name": "stdout",
     "output_type": "stream",
     "text": [
      "genre\n",
      "Action          290.64\n",
      "Shooter         237.47\n",
      "Sports          156.81\n",
      "Misc            123.80\n",
      "Role-Playing    112.05\n",
      "Name: na_sales, dtype: float64\n",
      "\n",
      "genre\n",
      "Action          233.63\n",
      "Shooter         171.45\n",
      "Sports          116.84\n",
      "Role-Playing     75.48\n",
      "Misc             66.09\n",
      "Name: eu_sales, dtype: float64\n",
      "\n",
      "genre\n",
      "Role-Playing    103.54\n",
      "Action           72.20\n",
      "Misc             24.29\n",
      "Platform         15.81\n",
      "Adventure        15.67\n",
      "Name: jp_sales, dtype: float64\n"
     ]
    }
   ],
   "source": [
    "#Ventas por región & género\n",
    "def genero(df, sales): \n",
    "    return df.groupby('genre')[sales].sum().sort_values(ascending=False)\n",
    "\n",
    "na_generos = genero(new_games_list, 'na_sales')\n",
    "eu_generos = genero(new_games_list, 'eu_sales')\n",
    "jp_generos = genero(new_games_list, 'jp_sales')\n",
    "\n",
    "#Queremos imprimir los 5 géneros con mas ventas\n",
    "print(na_generos.iloc[0:5])\n",
    "print()\n",
    "print(eu_generos.iloc[0:5])\n",
    "print()\n",
    "print(jp_generos.iloc[0:5])"
   ]
  },
  {
   "cell_type": "code",
   "execution_count": 64,
   "metadata": {},
   "outputs": [
    {
     "name": "stdout",
     "output_type": "stream",
     "text": [
      "Desviación estandar de Norteamérica:  92.8846889680797\n",
      "\n",
      "Desviación estandar de Europa:  70.61753960060096\n",
      "\n",
      "Desviación estandar de Japón:  30.406164396933313\n"
     ]
    }
   ],
   "source": [
    "#Sacar la desviación estandar\n",
    "# Sacar la desviación estandar para ver la dispersión de los datos\n",
    "std_na_generos = na_generos.std()\n",
    "std_eu_generos = eu_generos.std()\n",
    "std_jp_generos = jp_generos.std()\n",
    "\n",
    "print('Desviación estandar de Norteamérica: ', std_na_generos)\n",
    "print()\n",
    "print('Desviación estandar de Europa: ', std_eu_generos)\n",
    "print()\n",
    "print('Desviación estandar de Japón: ', std_jp_generos)"
   ]
  },
  {
   "cell_type": "markdown",
   "metadata": {},
   "source": [
    "<div class=\"alert alert-block alert-success\">\n",
    "<b>Comentario del revisor</b> <a class=\"tocSkip\"></a>\n",
    "\n",
    "Buen trabajo analizando los géneros en las distintas regiones.\n",
    "</div>"
   ]
  },
  {
   "cell_type": "markdown",
   "metadata": {},
   "source": [
    "# Conclusiones\n",
    "\n",
    "El análisis de las ventas por género muestra una gran variabilidad en Norteamérica, con una desviación estándar de 92.88. Los géneros como Acción y Shooter dominan las ventas, pero hay una dispersión considerable debido a otros géneros más pequeños, como RPG y Misc. En Europa, la desviación estándar de 70.62 sugiere que las ventas son algo más homogéneas, aunque sigue existiendo variabilidad, especialmente por el desempeño de Acción, Shooter y RPG, que también tiene una buena cuota de mercado. Por último, Japón, con una desviación estándar de 30.41, muestra una distribución más estable de ventas entre géneros, con RPG claramente como el género dominante."
   ]
  },
  {
   "cell_type": "markdown",
   "metadata": {},
   "source": [
    "# 5. Prueba de Hipótesis"
   ]
  },
  {
   "cell_type": "markdown",
   "metadata": {},
   "source": [
    "###  Las calificaciones promedio de los usuarios para los géneros de Acción y Deportes son diferentes."
   ]
  },
  {
   "cell_type": "code",
   "execution_count": 65,
   "metadata": {},
   "outputs": [
    {
     "ename": "ValueError",
     "evalue": "unequal length arrays",
     "output_type": "error",
     "traceback": [
      "\u001b[0;31m---------------------------------------------------------------------------\u001b[0m",
      "\u001b[0;31mValueError\u001b[0m                                Traceback (most recent call last)",
      "Cell \u001b[0;32mIn[65], line 6\u001b[0m\n\u001b[1;32m      3\u001b[0m pc \u001b[38;5;241m=\u001b[39m new_games_list\u001b[38;5;241m.\u001b[39mquery(\u001b[38;5;124m\"\u001b[39m\u001b[38;5;124mplatform == \u001b[39m\u001b[38;5;124m'\u001b[39m\u001b[38;5;124mPC\u001b[39m\u001b[38;5;124m'\u001b[39m\u001b[38;5;124m\"\u001b[39m)[\u001b[38;5;124m'\u001b[39m\u001b[38;5;124muser_score\u001b[39m\u001b[38;5;124m'\u001b[39m]\n\u001b[1;32m      5\u001b[0m alpha \u001b[38;5;241m=\u001b[39m \u001b[38;5;241m0.05\u001b[39m\n\u001b[0;32m----> 6\u001b[0m results \u001b[38;5;241m=\u001b[39m \u001b[43mst\u001b[49m\u001b[38;5;241;43m.\u001b[39;49m\u001b[43mttest_rel\u001b[49m\u001b[43m(\u001b[49m\u001b[43mxbox_one\u001b[49m\u001b[43m,\u001b[49m\u001b[43m \u001b[49m\u001b[43mpc\u001b[49m\u001b[43m)\u001b[49m\n\u001b[1;32m      7\u001b[0m \u001b[38;5;28mprint\u001b[39m(\u001b[38;5;124m'\u001b[39m\u001b[38;5;124mvalor p:\u001b[39m\u001b[38;5;124m'\u001b[39m, results\u001b[38;5;241m.\u001b[39mpvalue)\n\u001b[1;32m      8\u001b[0m \u001b[38;5;28;01mif\u001b[39;00m results\u001b[38;5;241m.\u001b[39mpvalue \u001b[38;5;241m==\u001b[39m alpha:\n",
      "File \u001b[0;32m/.venv/lib/python3.9/site-packages/scipy/stats/_axis_nan_policy.py:502\u001b[0m, in \u001b[0;36m_axis_nan_policy_factory.<locals>.axis_nan_policy_decorator.<locals>.axis_nan_policy_wrapper\u001b[0;34m(***failed resolving arguments***)\u001b[0m\n\u001b[1;32m    500\u001b[0m \u001b[38;5;28;01mif\u001b[39;00m sentinel:\n\u001b[1;32m    501\u001b[0m     samples \u001b[38;5;241m=\u001b[39m _remove_sentinel(samples, paired, sentinel)\n\u001b[0;32m--> 502\u001b[0m res \u001b[38;5;241m=\u001b[39m \u001b[43mhypotest_fun_out\u001b[49m\u001b[43m(\u001b[49m\u001b[38;5;241;43m*\u001b[39;49m\u001b[43msamples\u001b[49m\u001b[43m,\u001b[49m\u001b[43m \u001b[49m\u001b[38;5;241;43m*\u001b[39;49m\u001b[38;5;241;43m*\u001b[39;49m\u001b[43mkwds\u001b[49m\u001b[43m)\u001b[49m\n\u001b[1;32m    503\u001b[0m res \u001b[38;5;241m=\u001b[39m result_to_tuple(res)\n\u001b[1;32m    504\u001b[0m res \u001b[38;5;241m=\u001b[39m _add_reduced_axes(res, reduced_axes, keepdims)\n",
      "File \u001b[0;32m/.venv/lib/python3.9/site-packages/scipy/stats/_stats_py.py:7133\u001b[0m, in \u001b[0;36mttest_rel\u001b[0;34m(a, b, axis, nan_policy, alternative)\u001b[0m\n\u001b[1;32m   7131\u001b[0m nb \u001b[38;5;241m=\u001b[39m _get_len(b, axis, \u001b[38;5;124m\"\u001b[39m\u001b[38;5;124msecond argument\u001b[39m\u001b[38;5;124m\"\u001b[39m)\n\u001b[1;32m   7132\u001b[0m \u001b[38;5;28;01mif\u001b[39;00m na \u001b[38;5;241m!=\u001b[39m nb:\n\u001b[0;32m-> 7133\u001b[0m     \u001b[38;5;28;01mraise\u001b[39;00m \u001b[38;5;167;01mValueError\u001b[39;00m(\u001b[38;5;124m'\u001b[39m\u001b[38;5;124munequal length arrays\u001b[39m\u001b[38;5;124m'\u001b[39m)\n\u001b[1;32m   7135\u001b[0m \u001b[38;5;28;01mif\u001b[39;00m na \u001b[38;5;241m==\u001b[39m \u001b[38;5;241m0\u001b[39m \u001b[38;5;129;01mor\u001b[39;00m nb \u001b[38;5;241m==\u001b[39m \u001b[38;5;241m0\u001b[39m:\n\u001b[1;32m   7136\u001b[0m     \u001b[38;5;66;03m# _axis_nan_policy decorator ensures this only happens with 1d input\u001b[39;00m\n\u001b[1;32m   7137\u001b[0m     \u001b[38;5;28;01mreturn\u001b[39;00m TtestResult(np\u001b[38;5;241m.\u001b[39mnan, np\u001b[38;5;241m.\u001b[39mnan, df\u001b[38;5;241m=\u001b[39mnp\u001b[38;5;241m.\u001b[39mnan, alternative\u001b[38;5;241m=\u001b[39mnp\u001b[38;5;241m.\u001b[39mnan,\n\u001b[1;32m   7138\u001b[0m                        standard_error\u001b[38;5;241m=\u001b[39mnp\u001b[38;5;241m.\u001b[39mnan, estimate\u001b[38;5;241m=\u001b[39mnp\u001b[38;5;241m.\u001b[39mnan)\n",
      "\u001b[0;31mValueError\u001b[0m: unequal length arrays"
     ]
    }
   ],
   "source": [
    "# Filtrar las calificaciones de Xbox One y PC\n",
    "xbox_one = new_games_list.query(\"platform == 'XOne'\")['user_score']\n",
    "pc = new_games_list.query(\"platform == 'PC'\")['user_score']\n",
    "\n",
    "alpha = 0.05\n",
    "results = st.ttest_rel(xbox_one, pc)\n",
    "print('valor p:', results.pvalue)\n",
    "if results.pvalue == alpha:\n",
    "    print(\"Rechazamos la hipótesis nula: Las calificaciones promedio son diferentes.\")\n",
    "else:\n",
    "    print(\"No rechazamos la hipótesis nula: No hay evidencia suficiente para decir que las calificaciones promedio son diferentes.\")"
   ]
  },
  {
   "cell_type": "markdown",
   "metadata": {},
   "source": [
    "H₀: Las calificaciones promedio de Xbox One y PC son iguales.\n",
    "\n",
    "H₁: Las calificaciones promedio de Xbox One y PC son diferentes.\n",
    "\n",
    "Usamos la prueba t para comparar las medias y determinamos si la diferencia es estadísticamente significativa usando un valor de 0.05."
   ]
  },
  {
   "cell_type": "markdown",
   "metadata": {},
   "source": [
    "<div class=\"alert alert-block alert-danger\">\n",
    "<b>Comentario del revisor</b> <a class=\"tocSkip\"></a>\n",
    "\n",
    "Bien, solo hay un detalle que corregir en el código:\n",
    "La prueba de hipótesis se aplica a todo un conjunto de datos no solo a la media. Para poder realizar esto se debe eliminar el .mean() al final de los filtros con el .query\n",
    "</div>"
   ]
  },
  {
   "cell_type": "markdown",
   "metadata": {},
   "source": [
    "###  Las calificaciones promedio de los usuarios para los géneros de Acción y Deportes son diferentes.\n"
   ]
  },
  {
   "cell_type": "code",
   "execution_count": null,
   "metadata": {},
   "outputs": [],
   "source": [
    "# Filtrar las calificaciones de Xbox One y PC\n",
    "accion = new_games_list.query(\"genre == 'Action'\")['user_score']\n",
    "deportes = new_games_list.query(\"genre == 'Sports'\")['user_score']\n",
    "\n",
    "alpha = 0.05\n",
    "results = st.ttest_rel(accion, deportes)\n",
    "print('valor p:', results.pvalue)\n",
    "if results.pvalue > alpha:\n",
    "    print(\"Las calificaciones promedio de Acción es menor que el promedio de Deportes.\")\n",
    "else:\n",
    "    print(\"Las calificaciones promedio de Acción es mayor que el promedio de Deportes.\")"
   ]
  },
  {
   "cell_type": "markdown",
   "metadata": {},
   "source": [
    "H₀: Las calificaciones promedio de Acción es menor que el promedio de Deportes.\n",
    "\n",
    "H₁: Las calificaciones promedio de Acción es mayor que el promedio de Deportes.\n",
    "\n",
    "Usamos la prueba t para comparar las medias y determinamos si la diferencia es estadísticamente significativa usando un valor de 0.05."
   ]
  },
  {
   "cell_type": "markdown",
   "metadata": {},
   "source": [
    "<div class=\"alert alert-block alert-danger\">\n",
    "<b>Comentario del revisor</b> <a class=\"tocSkip\"></a>\n",
    "\n",
    "Mismo comentario que arriba, cambia:\n",
    "```\n",
    "accion = new_games_list.query(\"genre == 'Action'\")['user_score'].mean()\n",
    "deportes = new_games_list.query(\"genre == 'Sports'\")['user_score'].mean()\n",
    "```\n",
    "    \n",
    "por:\n",
    "```\n",
    "accion = new_games_list.query(\"genre == 'Action'\")['user_score']\n",
    "deportes = new_games_list.query(\"genre == 'Sports'\")['user_score']\n",
    "```    \n",
    "    \n",
    "De hecho te puedes dar cuenta que la hipótesis no se calculo bien porque el p valor vale nan.\n",
    " \n",
    "</div>"
   ]
  },
  {
   "cell_type": "markdown",
   "metadata": {},
   "source": [
    "# Conclusiones\n",
    "El análisis muestra que las plataformas como X360 y PS3 siguen liderando en Norteamérica y Europa, mientras que en Japón, 3DS domina el mercado, especialmente en plataformas portátiles. Las ventas en Norteamérica tienen más variabilidad entre plataformas, con algunas consolas superando ampliamente a otras, mientras que en Japón las ventas son más estables.\n",
    "\n",
    "En cuanto a los géneros, Acción es el más popular en Norteamérica y Europa, y RPG destaca en Japón, reflejando las preferencias regionales. Los géneros como Shooter y Deportes también tienen un buen desempeño en NA y UE, pero hay diferencias claras entre las regiones.\n",
    "\n",
    "Finalmente, la prueba de hipótesis para comparar las calificaciones de Xbox One y PC no mostró evidencia suficiente para afirmar que sean significativamente diferentes.\n",
    "\n",
    "En resumen, Acción y Shooter son los géneros más fuertes en NA y UE, mientras que RPG es el favorito en Japón. Las ventas varían más en NA, pero Japón muestra una tendencia más estable y consistente."
   ]
  },
  {
   "cell_type": "code",
   "execution_count": null,
   "metadata": {},
   "outputs": [],
   "source": []
  }
 ],
 "metadata": {
  "ExecuteTimeLog": [
   {
    "duration": 2523,
    "start_time": "2025-05-06T01:09:04.096Z"
   },
   {
    "duration": 3,
    "start_time": "2025-05-06T01:09:07.786Z"
   },
   {
    "duration": 35,
    "start_time": "2025-05-06T01:11:33.608Z"
   },
   {
    "duration": 28,
    "start_time": "2025-05-06T01:11:38.954Z"
   },
   {
    "duration": 14,
    "start_time": "2025-05-06T01:12:41.281Z"
   },
   {
    "duration": 16,
    "start_time": "2025-05-06T01:12:43.117Z"
   },
   {
    "duration": 12,
    "start_time": "2025-05-06T01:12:50.938Z"
   },
   {
    "duration": 10,
    "start_time": "2025-05-06T01:24:36.652Z"
   },
   {
    "duration": 212,
    "start_time": "2025-05-06T01:37:33.433Z"
   },
   {
    "duration": 17,
    "start_time": "2025-05-06T01:37:54.107Z"
   },
   {
    "duration": 2,
    "start_time": "2025-05-06T01:38:38.663Z"
   },
   {
    "duration": 23,
    "start_time": "2025-05-06T01:38:38.668Z"
   },
   {
    "duration": 12,
    "start_time": "2025-05-06T01:38:38.694Z"
   },
   {
    "duration": 19,
    "start_time": "2025-05-06T01:38:38.707Z"
   },
   {
    "duration": 12,
    "start_time": "2025-05-06T01:38:41.703Z"
   },
   {
    "duration": 5,
    "start_time": "2025-05-06T01:41:00.251Z"
   },
   {
    "duration": 67,
    "start_time": "2025-05-06T01:41:12.551Z"
   },
   {
    "duration": 13,
    "start_time": "2025-05-06T01:42:09.199Z"
   },
   {
    "duration": 13,
    "start_time": "2025-05-06T01:42:13.917Z"
   },
   {
    "duration": 547,
    "start_time": "2025-05-06T01:42:38.782Z"
   },
   {
    "duration": 2,
    "start_time": "2025-05-06T01:42:58.800Z"
   },
   {
    "duration": 32,
    "start_time": "2025-05-06T01:42:58.805Z"
   },
   {
    "duration": 11,
    "start_time": "2025-05-06T01:42:58.838Z"
   },
   {
    "duration": 10,
    "start_time": "2025-05-06T01:42:58.851Z"
   },
   {
    "duration": 11,
    "start_time": "2025-05-06T01:42:58.864Z"
   },
   {
    "duration": 5,
    "start_time": "2025-05-06T01:42:58.878Z"
   },
   {
    "duration": 68,
    "start_time": "2025-05-06T01:43:01.904Z"
   },
   {
    "duration": 15,
    "start_time": "2025-05-06T01:43:32.105Z"
   },
   {
    "duration": 11,
    "start_time": "2025-05-06T01:43:59.184Z"
   },
   {
    "duration": 11,
    "start_time": "2025-05-06T01:48:49.531Z"
   },
   {
    "duration": 46,
    "start_time": "2025-05-06T01:48:51.703Z"
   },
   {
    "duration": 3,
    "start_time": "2025-05-06T01:52:14.052Z"
   },
   {
    "duration": 60,
    "start_time": "2025-05-06T01:52:23.112Z"
   },
   {
    "duration": 26,
    "start_time": "2025-05-06T01:52:39.541Z"
   },
   {
    "duration": 13,
    "start_time": "2025-05-06T01:53:04.470Z"
   },
   {
    "duration": 13,
    "start_time": "2025-05-06T01:53:37.333Z"
   },
   {
    "duration": 3,
    "start_time": "2025-05-06T01:53:43.758Z"
   },
   {
    "duration": 24,
    "start_time": "2025-05-06T01:53:43.764Z"
   },
   {
    "duration": 12,
    "start_time": "2025-05-06T01:53:43.790Z"
   },
   {
    "duration": 12,
    "start_time": "2025-05-06T01:53:43.805Z"
   },
   {
    "duration": 11,
    "start_time": "2025-05-06T01:53:43.819Z"
   },
   {
    "duration": 4,
    "start_time": "2025-05-06T01:53:43.832Z"
   },
   {
    "duration": 15,
    "start_time": "2025-05-06T01:53:45.386Z"
   },
   {
    "duration": 18,
    "start_time": "2025-05-06T01:54:13.869Z"
   },
   {
    "duration": 14,
    "start_time": "2025-05-06T01:54:20.975Z"
   },
   {
    "duration": 7,
    "start_time": "2025-05-06T02:20:08.061Z"
   },
   {
    "duration": 10,
    "start_time": "2025-05-06T02:24:35.437Z"
   },
   {
    "duration": 11,
    "start_time": "2025-05-06T02:24:38.039Z"
   },
   {
    "duration": 13,
    "start_time": "2025-05-06T02:24:39.267Z"
   },
   {
    "duration": 9,
    "start_time": "2025-05-06T02:24:53.118Z"
   },
   {
    "duration": 162,
    "start_time": "2025-05-06T23:11:32.396Z"
   },
   {
    "duration": 2497,
    "start_time": "2025-05-06T23:11:37.762Z"
   },
   {
    "duration": 35,
    "start_time": "2025-05-06T23:11:40.262Z"
   },
   {
    "duration": 12,
    "start_time": "2025-05-06T23:11:40.298Z"
   },
   {
    "duration": 12,
    "start_time": "2025-05-06T23:11:40.312Z"
   },
   {
    "duration": 11,
    "start_time": "2025-05-06T23:11:40.326Z"
   },
   {
    "duration": 3,
    "start_time": "2025-05-06T23:11:40.339Z"
   },
   {
    "duration": 43,
    "start_time": "2025-05-06T23:11:40.344Z"
   },
   {
    "duration": 7,
    "start_time": "2025-05-06T23:11:40.388Z"
   },
   {
    "duration": 5,
    "start_time": "2025-05-06T23:11:42.069Z"
   },
   {
    "duration": 4,
    "start_time": "2025-05-06T23:11:43.378Z"
   },
   {
    "duration": 12,
    "start_time": "2025-05-06T23:11:52.666Z"
   },
   {
    "duration": 74,
    "start_time": "2025-05-06T23:47:34.691Z"
   },
   {
    "duration": 3,
    "start_time": "2025-05-06T23:48:11.757Z"
   },
   {
    "duration": 3,
    "start_time": "2025-05-06T23:48:25.102Z"
   },
   {
    "duration": 4,
    "start_time": "2025-05-06T23:48:41.221Z"
   },
   {
    "duration": 10,
    "start_time": "2025-05-06T23:51:29.968Z"
   },
   {
    "duration": 11,
    "start_time": "2025-05-06T23:51:33.086Z"
   },
   {
    "duration": 512,
    "start_time": "2025-05-06T23:52:22.126Z"
   },
   {
    "duration": 2,
    "start_time": "2025-05-06T23:52:57.437Z"
   },
   {
    "duration": 25,
    "start_time": "2025-05-06T23:52:57.442Z"
   },
   {
    "duration": 10,
    "start_time": "2025-05-06T23:52:57.469Z"
   },
   {
    "duration": 10,
    "start_time": "2025-05-06T23:52:57.481Z"
   },
   {
    "duration": 10,
    "start_time": "2025-05-06T23:52:57.494Z"
   },
   {
    "duration": 51,
    "start_time": "2025-05-06T23:52:59.195Z"
   },
   {
    "duration": 11,
    "start_time": "2025-05-06T23:53:14.720Z"
   },
   {
    "duration": 131,
    "start_time": "2025-05-06T23:53:16.142Z"
   },
   {
    "duration": 13,
    "start_time": "2025-05-06T23:53:30.664Z"
   },
   {
    "duration": 50,
    "start_time": "2025-05-06T23:53:39.003Z"
   },
   {
    "duration": 3,
    "start_time": "2025-05-06T23:54:03.501Z"
   },
   {
    "duration": 25,
    "start_time": "2025-05-06T23:54:03.505Z"
   },
   {
    "duration": 10,
    "start_time": "2025-05-06T23:54:03.532Z"
   },
   {
    "duration": 9,
    "start_time": "2025-05-06T23:54:03.545Z"
   },
   {
    "duration": 10,
    "start_time": "2025-05-06T23:54:03.556Z"
   },
   {
    "duration": 46,
    "start_time": "2025-05-06T23:54:34.647Z"
   },
   {
    "duration": 14,
    "start_time": "2025-05-06T23:54:42.018Z"
   },
   {
    "duration": 10,
    "start_time": "2025-05-06T23:55:01.032Z"
   },
   {
    "duration": 48,
    "start_time": "2025-05-06T23:55:39.514Z"
   },
   {
    "duration": 3,
    "start_time": "2025-05-06T23:58:09.299Z"
   },
   {
    "duration": 12,
    "start_time": "2025-05-06T23:58:16.001Z"
   },
   {
    "duration": 12,
    "start_time": "2025-05-06T23:58:40.234Z"
   },
   {
    "duration": 4,
    "start_time": "2025-05-06T23:58:48.400Z"
   },
   {
    "duration": 3,
    "start_time": "2025-05-07T00:21:57.170Z"
   },
   {
    "duration": 3,
    "start_time": "2025-05-07T00:21:58.837Z"
   },
   {
    "duration": 12,
    "start_time": "2025-05-07T00:22:00.843Z"
   },
   {
    "duration": 4,
    "start_time": "2025-05-07T00:22:30.046Z"
   },
   {
    "duration": 13,
    "start_time": "2025-05-07T00:22:35.317Z"
   },
   {
    "duration": 3,
    "start_time": "2025-05-07T00:22:46.124Z"
   },
   {
    "duration": 4,
    "start_time": "2025-05-07T00:24:19.136Z"
   },
   {
    "duration": 3,
    "start_time": "2025-05-07T00:24:24.090Z"
   },
   {
    "duration": 12,
    "start_time": "2025-05-07T00:24:27.490Z"
   },
   {
    "duration": 3,
    "start_time": "2025-05-07T00:24:37.048Z"
   },
   {
    "duration": 4,
    "start_time": "2025-05-07T00:26:24.240Z"
   },
   {
    "duration": 4,
    "start_time": "2025-05-07T00:27:02.338Z"
   },
   {
    "duration": 12,
    "start_time": "2025-05-07T00:27:06.400Z"
   },
   {
    "duration": 4,
    "start_time": "2025-05-07T00:27:09.089Z"
   },
   {
    "duration": 3,
    "start_time": "2025-05-07T00:27:11.258Z"
   },
   {
    "duration": 3,
    "start_time": "2025-05-07T00:27:15.716Z"
   },
   {
    "duration": 4,
    "start_time": "2025-05-07T00:27:16.539Z"
   },
   {
    "duration": 2,
    "start_time": "2025-05-07T00:27:18.618Z"
   },
   {
    "duration": 12,
    "start_time": "2025-05-07T00:27:19.661Z"
   },
   {
    "duration": 3,
    "start_time": "2025-05-07T00:27:26.548Z"
   },
   {
    "duration": 25,
    "start_time": "2025-05-07T00:27:26.553Z"
   },
   {
    "duration": 10,
    "start_time": "2025-05-07T00:27:26.580Z"
   },
   {
    "duration": 12,
    "start_time": "2025-05-07T00:27:26.591Z"
   },
   {
    "duration": 12,
    "start_time": "2025-05-07T00:27:26.606Z"
   },
   {
    "duration": 12,
    "start_time": "2025-05-07T00:27:26.620Z"
   },
   {
    "duration": 6,
    "start_time": "2025-05-07T00:27:26.634Z"
   },
   {
    "duration": 5,
    "start_time": "2025-05-07T00:27:26.642Z"
   },
   {
    "duration": 13,
    "start_time": "2025-05-07T00:27:30.113Z"
   },
   {
    "duration": 67,
    "start_time": "2025-05-07T00:27:33.777Z"
   },
   {
    "duration": 5,
    "start_time": "2025-05-07T00:27:50.958Z"
   },
   {
    "duration": 87,
    "start_time": "2025-05-07T00:27:52.076Z"
   },
   {
    "duration": 50,
    "start_time": "2025-05-07T00:27:53.439Z"
   },
   {
    "duration": 5,
    "start_time": "2025-05-07T00:27:54.698Z"
   },
   {
    "duration": 5,
    "start_time": "2025-05-07T00:27:56.945Z"
   },
   {
    "duration": 5,
    "start_time": "2025-05-07T00:27:57.546Z"
   },
   {
    "duration": 48,
    "start_time": "2025-05-07T00:27:58.476Z"
   },
   {
    "duration": 50,
    "start_time": "2025-05-07T00:27:59.229Z"
   },
   {
    "duration": 3,
    "start_time": "2025-05-07T00:28:03.931Z"
   },
   {
    "duration": 25,
    "start_time": "2025-05-07T00:28:03.935Z"
   },
   {
    "duration": 10,
    "start_time": "2025-05-07T00:28:03.961Z"
   },
   {
    "duration": 9,
    "start_time": "2025-05-07T00:28:03.974Z"
   },
   {
    "duration": 11,
    "start_time": "2025-05-07T00:28:03.985Z"
   },
   {
    "duration": 13,
    "start_time": "2025-05-07T00:28:03.999Z"
   },
   {
    "duration": 6,
    "start_time": "2025-05-07T00:28:04.013Z"
   },
   {
    "duration": 5,
    "start_time": "2025-05-07T00:28:04.021Z"
   },
   {
    "duration": 4,
    "start_time": "2025-05-07T00:28:06.064Z"
   },
   {
    "duration": 13,
    "start_time": "2025-05-07T00:28:08.692Z"
   },
   {
    "duration": 4,
    "start_time": "2025-05-07T00:28:26.968Z"
   },
   {
    "duration": 8,
    "start_time": "2025-05-07T00:28:44.929Z"
   },
   {
    "duration": 3,
    "start_time": "2025-05-07T00:28:56.616Z"
   },
   {
    "duration": 4,
    "start_time": "2025-05-07T00:28:58.140Z"
   },
   {
    "duration": 3,
    "start_time": "2025-05-07T00:29:00.736Z"
   },
   {
    "duration": 13,
    "start_time": "2025-05-07T00:29:04.585Z"
   },
   {
    "duration": 4,
    "start_time": "2025-05-07T00:29:07.101Z"
   },
   {
    "duration": 5,
    "start_time": "2025-05-07T00:29:08.190Z"
   },
   {
    "duration": 3,
    "start_time": "2025-05-07T00:29:08.900Z"
   },
   {
    "duration": 3,
    "start_time": "2025-05-07T00:29:14.818Z"
   },
   {
    "duration": 26,
    "start_time": "2025-05-07T00:29:14.823Z"
   },
   {
    "duration": 12,
    "start_time": "2025-05-07T00:29:14.851Z"
   },
   {
    "duration": 10,
    "start_time": "2025-05-07T00:29:14.865Z"
   },
   {
    "duration": 14,
    "start_time": "2025-05-07T00:29:14.879Z"
   },
   {
    "duration": 13,
    "start_time": "2025-05-07T00:29:14.895Z"
   },
   {
    "duration": 5,
    "start_time": "2025-05-07T00:29:14.910Z"
   },
   {
    "duration": 5,
    "start_time": "2025-05-07T00:29:14.917Z"
   },
   {
    "duration": 7,
    "start_time": "2025-05-07T00:29:14.923Z"
   },
   {
    "duration": 3,
    "start_time": "2025-05-07T00:29:14.932Z"
   },
   {
    "duration": 12,
    "start_time": "2025-05-07T00:29:14.937Z"
   },
   {
    "duration": 4,
    "start_time": "2025-05-07T00:29:18.460Z"
   },
   {
    "duration": 4,
    "start_time": "2025-05-07T00:29:52.286Z"
   },
   {
    "duration": 4,
    "start_time": "2025-05-07T00:29:53.294Z"
   },
   {
    "duration": 7,
    "start_time": "2025-05-07T00:29:54.496Z"
   },
   {
    "duration": 10,
    "start_time": "2025-05-07T00:30:16.429Z"
   },
   {
    "duration": 7,
    "start_time": "2025-05-07T00:30:44.489Z"
   },
   {
    "duration": 6,
    "start_time": "2025-05-07T00:31:05.019Z"
   },
   {
    "duration": 4,
    "start_time": "2025-05-07T00:32:16.300Z"
   },
   {
    "duration": 6,
    "start_time": "2025-05-07T00:32:17.766Z"
   },
   {
    "duration": 3,
    "start_time": "2025-05-07T00:32:21.720Z"
   },
   {
    "duration": 12,
    "start_time": "2025-05-07T00:32:23.527Z"
   },
   {
    "duration": 4,
    "start_time": "2025-05-07T00:32:26.470Z"
   },
   {
    "duration": 4,
    "start_time": "2025-05-07T00:32:27.359Z"
   },
   {
    "duration": 3,
    "start_time": "2025-05-07T00:32:56.319Z"
   },
   {
    "duration": 7,
    "start_time": "2025-05-07T00:32:58.260Z"
   },
   {
    "duration": 7,
    "start_time": "2025-05-07T00:32:59.909Z"
   },
   {
    "duration": 3,
    "start_time": "2025-05-07T00:33:00.840Z"
   },
   {
    "duration": 4,
    "start_time": "2025-05-07T00:33:01.447Z"
   },
   {
    "duration": 3,
    "start_time": "2025-05-07T00:33:05.058Z"
   },
   {
    "duration": 25,
    "start_time": "2025-05-07T00:33:05.063Z"
   },
   {
    "duration": 11,
    "start_time": "2025-05-07T00:33:05.089Z"
   },
   {
    "duration": 10,
    "start_time": "2025-05-07T00:33:05.101Z"
   },
   {
    "duration": 448,
    "start_time": "2025-05-07T00:33:05.114Z"
   },
   {
    "duration": 0,
    "start_time": "2025-05-07T00:33:05.564Z"
   },
   {
    "duration": 0,
    "start_time": "2025-05-07T00:33:05.565Z"
   },
   {
    "duration": 0,
    "start_time": "2025-05-07T00:33:05.566Z"
   },
   {
    "duration": 41,
    "start_time": "2025-05-07T00:33:06.579Z"
   },
   {
    "duration": 40,
    "start_time": "2025-05-07T00:33:12.576Z"
   },
   {
    "duration": 41,
    "start_time": "2025-05-07T00:33:23.450Z"
   },
   {
    "duration": 40,
    "start_time": "2025-05-07T00:33:24.454Z"
   },
   {
    "duration": 2,
    "start_time": "2025-05-07T00:33:27.653Z"
   },
   {
    "duration": 24,
    "start_time": "2025-05-07T00:33:27.658Z"
   },
   {
    "duration": 11,
    "start_time": "2025-05-07T00:33:27.684Z"
   },
   {
    "duration": 10,
    "start_time": "2025-05-07T00:33:27.697Z"
   },
   {
    "duration": 41,
    "start_time": "2025-05-07T00:33:27.710Z"
   },
   {
    "duration": 0,
    "start_time": "2025-05-07T00:33:27.753Z"
   },
   {
    "duration": 0,
    "start_time": "2025-05-07T00:33:27.754Z"
   },
   {
    "duration": 0,
    "start_time": "2025-05-07T00:33:27.755Z"
   },
   {
    "duration": 41,
    "start_time": "2025-05-07T00:33:29.236Z"
   },
   {
    "duration": 42,
    "start_time": "2025-05-07T00:33:30.349Z"
   },
   {
    "duration": 40,
    "start_time": "2025-05-07T00:33:33.669Z"
   },
   {
    "duration": 40,
    "start_time": "2025-05-07T00:33:38.027Z"
   },
   {
    "duration": 3,
    "start_time": "2025-05-07T00:33:40.228Z"
   },
   {
    "duration": 24,
    "start_time": "2025-05-07T00:33:40.233Z"
   },
   {
    "duration": 11,
    "start_time": "2025-05-07T00:33:40.259Z"
   },
   {
    "duration": 9,
    "start_time": "2025-05-07T00:33:40.273Z"
   },
   {
    "duration": 39,
    "start_time": "2025-05-07T00:33:40.284Z"
   },
   {
    "duration": 0,
    "start_time": "2025-05-07T00:33:40.325Z"
   },
   {
    "duration": 0,
    "start_time": "2025-05-07T00:33:40.327Z"
   },
   {
    "duration": 0,
    "start_time": "2025-05-07T00:33:40.328Z"
   },
   {
    "duration": 41,
    "start_time": "2025-05-07T00:33:41.800Z"
   },
   {
    "duration": 40,
    "start_time": "2025-05-07T00:33:42.439Z"
   },
   {
    "duration": 2,
    "start_time": "2025-05-07T00:33:48.217Z"
   },
   {
    "duration": 42,
    "start_time": "2025-05-07T00:33:52.439Z"
   },
   {
    "duration": 3,
    "start_time": "2025-05-07T00:34:23.317Z"
   },
   {
    "duration": 25,
    "start_time": "2025-05-07T00:34:23.323Z"
   },
   {
    "duration": 10,
    "start_time": "2025-05-07T00:34:23.350Z"
   },
   {
    "duration": 10,
    "start_time": "2025-05-07T00:34:23.362Z"
   },
   {
    "duration": 10,
    "start_time": "2025-05-07T00:34:23.374Z"
   },
   {
    "duration": 14,
    "start_time": "2025-05-07T00:34:23.387Z"
   },
   {
    "duration": 6,
    "start_time": "2025-05-07T00:34:23.403Z"
   },
   {
    "duration": 5,
    "start_time": "2025-05-07T00:34:23.412Z"
   },
   {
    "duration": 7,
    "start_time": "2025-05-07T00:34:23.419Z"
   },
   {
    "duration": 4,
    "start_time": "2025-05-07T00:34:23.427Z"
   },
   {
    "duration": 12,
    "start_time": "2025-05-07T00:34:23.432Z"
   },
   {
    "duration": 43,
    "start_time": "2025-05-07T00:34:23.445Z"
   },
   {
    "duration": 4,
    "start_time": "2025-05-07T00:34:23.490Z"
   },
   {
    "duration": 4,
    "start_time": "2025-05-07T00:34:35.506Z"
   },
   {
    "duration": 5,
    "start_time": "2025-05-07T00:47:19.054Z"
   },
   {
    "duration": 16,
    "start_time": "2025-05-07T00:47:27.357Z"
   },
   {
    "duration": 8,
    "start_time": "2025-05-07T00:48:23.009Z"
   },
   {
    "duration": 3,
    "start_time": "2025-05-07T00:53:36.223Z"
   },
   {
    "duration": 3,
    "start_time": "2025-05-07T00:55:17.922Z"
   },
   {
    "duration": 5,
    "start_time": "2025-05-07T00:55:30.154Z"
   },
   {
    "duration": 5,
    "start_time": "2025-05-07T00:55:50.760Z"
   },
   {
    "duration": 5,
    "start_time": "2025-05-07T00:55:58.617Z"
   },
   {
    "duration": 4,
    "start_time": "2025-05-07T01:00:22.153Z"
   },
   {
    "duration": 4,
    "start_time": "2025-05-07T01:00:38.879Z"
   },
   {
    "duration": 5,
    "start_time": "2025-05-07T01:00:48.996Z"
   },
   {
    "duration": 15,
    "start_time": "2025-05-07T01:01:34.998Z"
   },
   {
    "duration": 15,
    "start_time": "2025-05-07T01:02:03.584Z"
   },
   {
    "duration": 14,
    "start_time": "2025-05-07T01:03:02.878Z"
   },
   {
    "duration": 6,
    "start_time": "2025-05-07T01:03:08.761Z"
   },
   {
    "duration": 5,
    "start_time": "2025-05-07T01:03:13.922Z"
   },
   {
    "duration": 14,
    "start_time": "2025-05-07T01:03:44.174Z"
   },
   {
    "duration": 13,
    "start_time": "2025-05-07T01:08:36.062Z"
   },
   {
    "duration": 3,
    "start_time": "2025-05-07T01:08:45.935Z"
   },
   {
    "duration": 7,
    "start_time": "2025-05-07T01:09:14.570Z"
   },
   {
    "duration": 8,
    "start_time": "2025-05-07T01:09:24.082Z"
   },
   {
    "duration": 3,
    "start_time": "2025-05-07T01:10:44.890Z"
   },
   {
    "duration": 128,
    "start_time": "2025-05-07T01:11:20.289Z"
   },
   {
    "duration": 24,
    "start_time": "2025-05-07T01:11:34.017Z"
   },
   {
    "duration": 76,
    "start_time": "2025-05-07T01:11:47.596Z"
   },
   {
    "duration": 10,
    "start_time": "2025-05-07T01:13:02.425Z"
   },
   {
    "duration": 9,
    "start_time": "2025-05-07T01:13:34.360Z"
   },
   {
    "duration": 9,
    "start_time": "2025-05-07T01:13:53.832Z"
   },
   {
    "duration": 9,
    "start_time": "2025-05-07T01:14:06.765Z"
   },
   {
    "duration": 8,
    "start_time": "2025-05-07T01:14:31.919Z"
   },
   {
    "duration": 8,
    "start_time": "2025-05-07T01:14:53.078Z"
   },
   {
    "duration": 4,
    "start_time": "2025-05-07T01:16:22.320Z"
   },
   {
    "duration": 7,
    "start_time": "2025-05-07T01:16:33.731Z"
   },
   {
    "duration": 9,
    "start_time": "2025-05-07T01:17:55.736Z"
   },
   {
    "duration": 4,
    "start_time": "2025-05-07T01:19:00.418Z"
   },
   {
    "duration": 126,
    "start_time": "2025-05-07T01:19:25.477Z"
   },
   {
    "duration": 14,
    "start_time": "2025-05-07T01:20:43.379Z"
   },
   {
    "duration": 16,
    "start_time": "2025-05-07T01:20:51.136Z"
   },
   {
    "duration": 40,
    "start_time": "2025-05-07T01:21:26.911Z"
   },
   {
    "duration": 10,
    "start_time": "2025-05-07T01:23:20.872Z"
   },
   {
    "duration": 10,
    "start_time": "2025-05-07T01:23:53.611Z"
   },
   {
    "duration": 7,
    "start_time": "2025-05-07T01:24:01.825Z"
   },
   {
    "duration": 9,
    "start_time": "2025-05-07T01:24:12.991Z"
   },
   {
    "duration": 9,
    "start_time": "2025-05-07T01:25:01.010Z"
   },
   {
    "duration": 20,
    "start_time": "2025-05-07T01:25:08.811Z"
   },
   {
    "duration": 9,
    "start_time": "2025-05-07T01:25:24.511Z"
   },
   {
    "duration": 9,
    "start_time": "2025-05-07T01:26:25.449Z"
   },
   {
    "duration": 8,
    "start_time": "2025-05-07T01:26:45.871Z"
   },
   {
    "duration": 7,
    "start_time": "2025-05-07T01:27:19.547Z"
   },
   {
    "duration": 8,
    "start_time": "2025-05-07T01:28:07.339Z"
   },
   {
    "duration": 8,
    "start_time": "2025-05-07T01:31:54.384Z"
   },
   {
    "duration": 16,
    "start_time": "2025-05-07T01:33:31.556Z"
   },
   {
    "duration": 16,
    "start_time": "2025-05-07T01:33:48.805Z"
   },
   {
    "duration": 5,
    "start_time": "2025-05-07T01:33:59.243Z"
   },
   {
    "duration": 8,
    "start_time": "2025-05-07T01:35:05.743Z"
   },
   {
    "duration": 8,
    "start_time": "2025-05-07T01:35:24.065Z"
   },
   {
    "duration": 8,
    "start_time": "2025-05-07T01:37:03.575Z"
   },
   {
    "duration": 10,
    "start_time": "2025-05-07T01:38:26.304Z"
   },
   {
    "duration": 18,
    "start_time": "2025-05-07T01:39:30.207Z"
   },
   {
    "duration": 10,
    "start_time": "2025-05-07T01:39:42.905Z"
   },
   {
    "duration": 2,
    "start_time": "2025-05-07T01:41:37.183Z"
   },
   {
    "duration": 11,
    "start_time": "2025-05-07T01:42:53.014Z"
   },
   {
    "duration": 3,
    "start_time": "2025-05-07T01:45:24.458Z"
   },
   {
    "duration": 3,
    "start_time": "2025-05-07T01:45:39.794Z"
   },
   {
    "duration": 5,
    "start_time": "2025-05-07T01:45:56.825Z"
   },
   {
    "duration": 6,
    "start_time": "2025-05-07T02:00:33.193Z"
   },
   {
    "duration": 6,
    "start_time": "2025-05-07T02:00:52.572Z"
   },
   {
    "duration": 6,
    "start_time": "2025-05-07T02:00:55.332Z"
   },
   {
    "duration": 6,
    "start_time": "2025-05-07T02:01:14.080Z"
   },
   {
    "duration": 7,
    "start_time": "2025-05-07T02:01:16.038Z"
   },
   {
    "duration": 6,
    "start_time": "2025-05-07T02:01:43.735Z"
   },
   {
    "duration": 6,
    "start_time": "2025-05-07T02:01:46.269Z"
   },
   {
    "duration": 6,
    "start_time": "2025-05-07T02:02:24.230Z"
   },
   {
    "duration": 3,
    "start_time": "2025-05-07T02:02:59.666Z"
   },
   {
    "duration": 5,
    "start_time": "2025-05-07T02:03:18.293Z"
   },
   {
    "duration": 4,
    "start_time": "2025-05-07T02:03:30.225Z"
   },
   {
    "duration": 2,
    "start_time": "2025-05-07T02:03:56.829Z"
   },
   {
    "duration": 26,
    "start_time": "2025-05-07T02:03:56.834Z"
   },
   {
    "duration": 11,
    "start_time": "2025-05-07T02:03:56.861Z"
   },
   {
    "duration": 10,
    "start_time": "2025-05-07T02:03:56.874Z"
   },
   {
    "duration": 11,
    "start_time": "2025-05-07T02:03:56.887Z"
   },
   {
    "duration": 15,
    "start_time": "2025-05-07T02:03:56.900Z"
   },
   {
    "duration": 6,
    "start_time": "2025-05-07T02:03:56.917Z"
   },
   {
    "duration": 5,
    "start_time": "2025-05-07T02:03:56.924Z"
   },
   {
    "duration": 7,
    "start_time": "2025-05-07T02:03:56.931Z"
   },
   {
    "duration": 3,
    "start_time": "2025-05-07T02:03:56.940Z"
   },
   {
    "duration": 48,
    "start_time": "2025-05-07T02:03:56.945Z"
   },
   {
    "duration": 3,
    "start_time": "2025-05-07T02:03:56.995Z"
   },
   {
    "duration": 5,
    "start_time": "2025-05-07T02:03:57.000Z"
   },
   {
    "duration": 11,
    "start_time": "2025-05-07T02:03:57.008Z"
   },
   {
    "duration": 4,
    "start_time": "2025-05-07T02:03:58.549Z"
   },
   {
    "duration": 4,
    "start_time": "2025-05-07T02:04:21.014Z"
   },
   {
    "duration": 4,
    "start_time": "2025-05-07T02:04:22.417Z"
   },
   {
    "duration": 4,
    "start_time": "2025-05-07T02:04:24.198Z"
   },
   {
    "duration": 5,
    "start_time": "2025-05-07T02:04:34.162Z"
   },
   {
    "duration": 4,
    "start_time": "2025-05-07T02:04:47.689Z"
   },
   {
    "duration": 4,
    "start_time": "2025-05-07T02:04:51.667Z"
   },
   {
    "duration": 6,
    "start_time": "2025-05-07T02:04:56.667Z"
   },
   {
    "duration": 4,
    "start_time": "2025-05-07T02:05:07.300Z"
   },
   {
    "duration": 6,
    "start_time": "2025-05-07T02:05:09.726Z"
   },
   {
    "duration": 6,
    "start_time": "2025-05-07T02:05:19.248Z"
   },
   {
    "duration": 6,
    "start_time": "2025-05-07T02:05:21.746Z"
   },
   {
    "duration": 7,
    "start_time": "2025-05-07T02:05:30.894Z"
   },
   {
    "duration": 5,
    "start_time": "2025-05-07T02:05:33.449Z"
   },
   {
    "duration": 6,
    "start_time": "2025-05-07T02:05:52.546Z"
   },
   {
    "duration": 6,
    "start_time": "2025-05-07T02:06:02.981Z"
   },
   {
    "duration": 6,
    "start_time": "2025-05-07T02:06:05.014Z"
   },
   {
    "duration": 6,
    "start_time": "2025-05-07T02:07:29.032Z"
   },
   {
    "duration": 17,
    "start_time": "2025-05-07T02:09:29.339Z"
   },
   {
    "duration": 17,
    "start_time": "2025-05-07T02:10:26.894Z"
   },
   {
    "duration": 285,
    "start_time": "2025-05-07T02:11:17.597Z"
   },
   {
    "duration": 14,
    "start_time": "2025-05-07T02:12:12.903Z"
   },
   {
    "duration": 9,
    "start_time": "2025-05-07T02:12:34.345Z"
   },
   {
    "duration": 9,
    "start_time": "2025-05-07T02:12:35.728Z"
   },
   {
    "duration": 20,
    "start_time": "2025-05-07T02:13:01.345Z"
   },
   {
    "duration": 10,
    "start_time": "2025-05-07T02:13:11.505Z"
   },
   {
    "duration": 12,
    "start_time": "2025-05-07T02:13:33.849Z"
   },
   {
    "duration": 8,
    "start_time": "2025-05-07T02:41:32.924Z"
   },
   {
    "duration": 9,
    "start_time": "2025-05-07T02:42:41.065Z"
   },
   {
    "duration": 2,
    "start_time": "2025-05-07T23:14:02.758Z"
   },
   {
    "duration": 189,
    "start_time": "2025-05-07T23:19:48.543Z"
   },
   {
    "duration": 2953,
    "start_time": "2025-05-07T23:20:02.399Z"
   },
   {
    "duration": 38,
    "start_time": "2025-05-07T23:20:05.355Z"
   },
   {
    "duration": 13,
    "start_time": "2025-05-07T23:20:05.395Z"
   },
   {
    "duration": 16,
    "start_time": "2025-05-07T23:20:05.411Z"
   },
   {
    "duration": 14,
    "start_time": "2025-05-07T23:20:05.430Z"
   },
   {
    "duration": 15,
    "start_time": "2025-05-07T23:20:05.447Z"
   },
   {
    "duration": 8,
    "start_time": "2025-05-07T23:20:05.487Z"
   },
   {
    "duration": 5,
    "start_time": "2025-05-07T23:20:05.497Z"
   },
   {
    "duration": 8,
    "start_time": "2025-05-07T23:20:05.504Z"
   },
   {
    "duration": 3,
    "start_time": "2025-05-07T23:20:05.514Z"
   },
   {
    "duration": 15,
    "start_time": "2025-05-07T23:20:05.519Z"
   },
   {
    "duration": 3,
    "start_time": "2025-05-07T23:20:05.536Z"
   },
   {
    "duration": 4,
    "start_time": "2025-05-07T23:20:05.541Z"
   },
   {
    "duration": 13,
    "start_time": "2025-05-07T23:20:05.589Z"
   },
   {
    "duration": 13,
    "start_time": "2025-05-07T23:20:05.604Z"
   },
   {
    "duration": 9,
    "start_time": "2025-05-07T23:20:05.619Z"
   },
   {
    "duration": 8,
    "start_time": "2025-05-07T23:20:05.800Z"
   },
   {
    "duration": 8,
    "start_time": "2025-05-07T23:21:41.697Z"
   },
   {
    "duration": 17,
    "start_time": "2025-05-07T23:22:50.908Z"
   },
   {
    "duration": 12,
    "start_time": "2025-05-07T23:23:07.380Z"
   },
   {
    "duration": 12,
    "start_time": "2025-05-07T23:23:27.202Z"
   },
   {
    "duration": 8,
    "start_time": "2025-05-07T23:24:02.535Z"
   },
   {
    "duration": 16,
    "start_time": "2025-05-07T23:24:52.060Z"
   },
   {
    "duration": 13,
    "start_time": "2025-05-07T23:25:01.846Z"
   },
   {
    "duration": 11,
    "start_time": "2025-05-07T23:25:18.331Z"
   },
   {
    "duration": 16,
    "start_time": "2025-05-07T23:25:31.628Z"
   },
   {
    "duration": 13,
    "start_time": "2025-05-07T23:27:32.523Z"
   },
   {
    "duration": 12,
    "start_time": "2025-05-07T23:27:54.484Z"
   },
   {
    "duration": 12,
    "start_time": "2025-05-07T23:28:37.425Z"
   },
   {
    "duration": 9,
    "start_time": "2025-05-07T23:29:15.151Z"
   },
   {
    "duration": 4,
    "start_time": "2025-05-07T23:33:55.008Z"
   },
   {
    "duration": 7,
    "start_time": "2025-05-07T23:34:24.635Z"
   },
   {
    "duration": 6,
    "start_time": "2025-05-07T23:34:36.949Z"
   },
   {
    "duration": 6,
    "start_time": "2025-05-07T23:34:43.864Z"
   },
   {
    "duration": 6,
    "start_time": "2025-05-07T23:35:04.982Z"
   },
   {
    "duration": 6,
    "start_time": "2025-05-07T23:35:15.313Z"
   },
   {
    "duration": 7,
    "start_time": "2025-05-07T23:35:28.214Z"
   },
   {
    "duration": 6,
    "start_time": "2025-05-07T23:35:36.381Z"
   },
   {
    "duration": 12,
    "start_time": "2025-05-07T23:36:58.288Z"
   },
   {
    "duration": 9,
    "start_time": "2025-05-07T23:37:19.157Z"
   },
   {
    "duration": 7,
    "start_time": "2025-05-07T23:37:33.229Z"
   },
   {
    "duration": 7,
    "start_time": "2025-05-07T23:37:39.212Z"
   },
   {
    "duration": 7,
    "start_time": "2025-05-07T23:37:44.020Z"
   },
   {
    "duration": 7,
    "start_time": "2025-05-07T23:37:47.739Z"
   },
   {
    "duration": 4,
    "start_time": "2025-05-07T23:58:35.809Z"
   },
   {
    "duration": 7,
    "start_time": "2025-05-08T00:03:33.733Z"
   },
   {
    "duration": 9,
    "start_time": "2025-05-08T00:04:09.528Z"
   },
   {
    "duration": 16,
    "start_time": "2025-05-08T00:04:20.791Z"
   },
   {
    "duration": 3,
    "start_time": "2025-05-08T00:04:59.803Z"
   },
   {
    "duration": 30,
    "start_time": "2025-05-08T00:04:59.808Z"
   },
   {
    "duration": 12,
    "start_time": "2025-05-08T00:04:59.840Z"
   },
   {
    "duration": 12,
    "start_time": "2025-05-08T00:04:59.854Z"
   },
   {
    "duration": 11,
    "start_time": "2025-05-08T00:04:59.869Z"
   },
   {
    "duration": 15,
    "start_time": "2025-05-08T00:04:59.887Z"
   },
   {
    "duration": 6,
    "start_time": "2025-05-08T00:04:59.904Z"
   },
   {
    "duration": 5,
    "start_time": "2025-05-08T00:04:59.912Z"
   },
   {
    "duration": 7,
    "start_time": "2025-05-08T00:04:59.919Z"
   },
   {
    "duration": 4,
    "start_time": "2025-05-08T00:04:59.928Z"
   },
   {
    "duration": 13,
    "start_time": "2025-05-08T00:04:59.934Z"
   },
   {
    "duration": 5,
    "start_time": "2025-05-08T00:04:59.988Z"
   },
   {
    "duration": 5,
    "start_time": "2025-05-08T00:04:59.995Z"
   },
   {
    "duration": 12,
    "start_time": "2025-05-08T00:05:00.003Z"
   },
   {
    "duration": 12,
    "start_time": "2025-05-08T00:05:00.017Z"
   },
   {
    "duration": 16,
    "start_time": "2025-05-08T00:05:01.678Z"
   },
   {
    "duration": 5,
    "start_time": "2025-05-08T00:05:24.271Z"
   },
   {
    "duration": 8,
    "start_time": "2025-05-08T00:05:26.636Z"
   },
   {
    "duration": 2,
    "start_time": "2025-05-08T00:05:31.846Z"
   },
   {
    "duration": 12,
    "start_time": "2025-05-08T00:05:34.798Z"
   },
   {
    "duration": 4,
    "start_time": "2025-05-08T00:05:42.046Z"
   },
   {
    "duration": 4,
    "start_time": "2025-05-08T00:05:43.996Z"
   },
   {
    "duration": 10,
    "start_time": "2025-05-08T00:05:47.625Z"
   },
   {
    "duration": 15,
    "start_time": "2025-05-08T00:05:51.257Z"
   },
   {
    "duration": 19,
    "start_time": "2025-05-08T00:05:55.934Z"
   },
   {
    "duration": 81,
    "start_time": "2025-05-08T00:06:33.533Z"
   },
   {
    "duration": 18,
    "start_time": "2025-05-08T00:06:38.434Z"
   },
   {
    "duration": 15,
    "start_time": "2025-05-08T00:07:14.497Z"
   },
   {
    "duration": 14,
    "start_time": "2025-05-08T00:07:20.532Z"
   },
   {
    "duration": 17,
    "start_time": "2025-05-08T00:07:22.759Z"
   },
   {
    "duration": 16,
    "start_time": "2025-05-08T00:07:29.248Z"
   },
   {
    "duration": 15,
    "start_time": "2025-05-08T00:08:10.735Z"
   },
   {
    "duration": 11,
    "start_time": "2025-05-08T00:08:25.204Z"
   },
   {
    "duration": 6,
    "start_time": "2025-05-08T00:10:19.753Z"
   },
   {
    "duration": 9,
    "start_time": "2025-05-08T00:10:27.794Z"
   },
   {
    "duration": 23,
    "start_time": "2025-05-08T00:10:53.895Z"
   },
   {
    "duration": 25,
    "start_time": "2025-05-08T00:11:01.796Z"
   },
   {
    "duration": 12,
    "start_time": "2025-05-08T00:11:12.908Z"
   },
   {
    "duration": 25,
    "start_time": "2025-05-08T00:11:28.114Z"
   },
   {
    "duration": 9,
    "start_time": "2025-05-08T00:11:34.208Z"
   },
   {
    "duration": 10,
    "start_time": "2025-05-08T00:11:38.914Z"
   },
   {
    "duration": 3,
    "start_time": "2025-05-08T00:11:45.912Z"
   },
   {
    "duration": 24,
    "start_time": "2025-05-08T00:11:45.918Z"
   },
   {
    "duration": 12,
    "start_time": "2025-05-08T00:11:45.944Z"
   },
   {
    "duration": 14,
    "start_time": "2025-05-08T00:11:45.958Z"
   },
   {
    "duration": 18,
    "start_time": "2025-05-08T00:11:45.976Z"
   },
   {
    "duration": 18,
    "start_time": "2025-05-08T00:11:45.996Z"
   },
   {
    "duration": 7,
    "start_time": "2025-05-08T00:11:46.016Z"
   },
   {
    "duration": 6,
    "start_time": "2025-05-08T00:11:46.025Z"
   },
   {
    "duration": 9,
    "start_time": "2025-05-08T00:11:46.033Z"
   },
   {
    "duration": 5,
    "start_time": "2025-05-08T00:11:46.044Z"
   },
   {
    "duration": 50,
    "start_time": "2025-05-08T00:11:46.052Z"
   },
   {
    "duration": 4,
    "start_time": "2025-05-08T00:11:46.105Z"
   },
   {
    "duration": 4,
    "start_time": "2025-05-08T00:11:46.111Z"
   },
   {
    "duration": 13,
    "start_time": "2025-05-08T00:11:46.118Z"
   },
   {
    "duration": 18,
    "start_time": "2025-05-08T00:11:46.133Z"
   },
   {
    "duration": 8,
    "start_time": "2025-05-08T00:11:47.715Z"
   },
   {
    "duration": 9,
    "start_time": "2025-05-08T00:11:54.277Z"
   },
   {
    "duration": 9,
    "start_time": "2025-05-08T00:12:02.731Z"
   },
   {
    "duration": 10,
    "start_time": "2025-05-08T00:12:27.290Z"
   },
   {
    "duration": 15,
    "start_time": "2025-05-08T00:12:48.044Z"
   },
   {
    "duration": 9,
    "start_time": "2025-05-08T00:12:54.611Z"
   },
   {
    "duration": 12,
    "start_time": "2025-05-08T00:13:03.146Z"
   },
   {
    "duration": 15,
    "start_time": "2025-05-08T00:13:53.886Z"
   },
   {
    "duration": 4,
    "start_time": "2025-05-08T00:18:03.468Z"
   },
   {
    "duration": 5,
    "start_time": "2025-05-08T00:18:16.290Z"
   },
   {
    "duration": 6,
    "start_time": "2025-05-08T00:23:47.727Z"
   },
   {
    "duration": 9,
    "start_time": "2025-05-08T00:24:25.062Z"
   },
   {
    "duration": 5,
    "start_time": "2025-05-08T00:24:33.136Z"
   },
   {
    "duration": 14,
    "start_time": "2025-05-08T00:26:00.490Z"
   },
   {
    "duration": 6,
    "start_time": "2025-05-08T00:26:02.788Z"
   },
   {
    "duration": 187,
    "start_time": "2025-05-08T00:30:20.775Z"
   },
   {
    "duration": 10,
    "start_time": "2025-05-08T00:31:42.138Z"
   },
   {
    "duration": 6,
    "start_time": "2025-05-08T00:31:45.026Z"
   },
   {
    "duration": 155,
    "start_time": "2025-05-08T00:31:47.638Z"
   },
   {
    "duration": 6,
    "start_time": "2025-05-08T00:32:33.041Z"
   },
   {
    "duration": 3,
    "start_time": "2025-05-08T00:32:36.799Z"
   },
   {
    "duration": 371,
    "start_time": "2025-05-08T00:37:07.192Z"
   },
   {
    "duration": 120,
    "start_time": "2025-05-08T00:37:18.340Z"
   },
   {
    "duration": 161,
    "start_time": "2025-05-08T00:37:27.054Z"
   },
   {
    "duration": 178,
    "start_time": "2025-05-08T00:37:33.539Z"
   },
   {
    "duration": 161,
    "start_time": "2025-05-08T00:38:59.704Z"
   },
   {
    "duration": 189,
    "start_time": "2025-05-08T00:39:11.990Z"
   },
   {
    "duration": 187,
    "start_time": "2025-05-08T00:39:34.488Z"
   },
   {
    "duration": 253,
    "start_time": "2025-05-08T00:45:11.164Z"
   },
   {
    "duration": 3,
    "start_time": "2025-05-08T00:46:11.356Z"
   },
   {
    "duration": 4,
    "start_time": "2025-05-08T00:50:27.134Z"
   },
   {
    "duration": 37,
    "start_time": "2025-05-08T00:50:27.139Z"
   },
   {
    "duration": 13,
    "start_time": "2025-05-08T00:50:27.178Z"
   },
   {
    "duration": 15,
    "start_time": "2025-05-08T00:50:27.193Z"
   },
   {
    "duration": 15,
    "start_time": "2025-05-08T00:50:27.210Z"
   },
   {
    "duration": 21,
    "start_time": "2025-05-08T00:50:27.229Z"
   },
   {
    "duration": 7,
    "start_time": "2025-05-08T00:50:27.252Z"
   },
   {
    "duration": 6,
    "start_time": "2025-05-08T00:50:27.261Z"
   },
   {
    "duration": 11,
    "start_time": "2025-05-08T00:50:27.287Z"
   },
   {
    "duration": 7,
    "start_time": "2025-05-08T00:50:27.302Z"
   },
   {
    "duration": 17,
    "start_time": "2025-05-08T00:50:27.313Z"
   },
   {
    "duration": 7,
    "start_time": "2025-05-08T00:50:27.334Z"
   },
   {
    "duration": 6,
    "start_time": "2025-05-08T00:50:27.344Z"
   },
   {
    "duration": 14,
    "start_time": "2025-05-08T00:50:27.352Z"
   },
   {
    "duration": 32,
    "start_time": "2025-05-08T00:50:27.367Z"
   },
   {
    "duration": 14,
    "start_time": "2025-05-08T00:50:27.402Z"
   },
   {
    "duration": 6,
    "start_time": "2025-05-08T00:50:27.419Z"
   },
   {
    "duration": 11,
    "start_time": "2025-05-08T00:50:27.427Z"
   },
   {
    "duration": 5,
    "start_time": "2025-05-08T00:50:27.440Z"
   },
   {
    "duration": 391,
    "start_time": "2025-05-08T00:50:27.448Z"
   },
   {
    "duration": 4,
    "start_time": "2025-05-08T01:01:29.686Z"
   },
   {
    "duration": 32,
    "start_time": "2025-05-08T01:01:29.697Z"
   },
   {
    "duration": 14,
    "start_time": "2025-05-08T01:01:29.733Z"
   },
   {
    "duration": 14,
    "start_time": "2025-05-08T01:01:29.749Z"
   },
   {
    "duration": 22,
    "start_time": "2025-05-08T01:01:29.765Z"
   },
   {
    "duration": 17,
    "start_time": "2025-05-08T01:01:29.790Z"
   },
   {
    "duration": 6,
    "start_time": "2025-05-08T01:01:29.810Z"
   },
   {
    "duration": 6,
    "start_time": "2025-05-08T01:01:29.817Z"
   },
   {
    "duration": 7,
    "start_time": "2025-05-08T01:01:29.824Z"
   },
   {
    "duration": 4,
    "start_time": "2025-05-08T01:01:29.832Z"
   },
   {
    "duration": 13,
    "start_time": "2025-05-08T01:01:29.838Z"
   },
   {
    "duration": 33,
    "start_time": "2025-05-08T01:01:29.853Z"
   },
   {
    "duration": 4,
    "start_time": "2025-05-08T01:01:29.888Z"
   },
   {
    "duration": 12,
    "start_time": "2025-05-08T01:01:29.894Z"
   },
   {
    "duration": 13,
    "start_time": "2025-05-08T01:01:29.908Z"
   },
   {
    "duration": 11,
    "start_time": "2025-05-08T01:01:29.923Z"
   },
   {
    "duration": 5,
    "start_time": "2025-05-08T01:01:29.936Z"
   },
   {
    "duration": 11,
    "start_time": "2025-05-08T01:01:29.943Z"
   },
   {
    "duration": 6,
    "start_time": "2025-05-08T01:01:29.987Z"
   },
   {
    "duration": 250,
    "start_time": "2025-05-08T01:01:29.995Z"
   },
   {
    "duration": 19,
    "start_time": "2025-05-08T01:03:08.362Z"
   },
   {
    "duration": 3,
    "start_time": "2025-05-08T01:18:39.627Z"
   },
   {
    "duration": 3,
    "start_time": "2025-05-08T01:19:39.908Z"
   },
   {
    "duration": 3,
    "start_time": "2025-05-08T01:20:06.651Z"
   },
   {
    "duration": 447,
    "start_time": "2025-05-08T01:20:55.100Z"
   },
   {
    "duration": 41,
    "start_time": "2025-05-08T01:21:19.041Z"
   },
   {
    "duration": 6,
    "start_time": "2025-05-08T01:21:44.370Z"
   },
   {
    "duration": 14,
    "start_time": "2025-05-08T01:24:23.415Z"
   },
   {
    "duration": 3,
    "start_time": "2025-05-08T01:24:45.418Z"
   },
   {
    "duration": 24,
    "start_time": "2025-05-08T01:24:45.423Z"
   },
   {
    "duration": 11,
    "start_time": "2025-05-08T01:24:45.448Z"
   },
   {
    "duration": 10,
    "start_time": "2025-05-08T01:24:45.460Z"
   },
   {
    "duration": 10,
    "start_time": "2025-05-08T01:24:45.473Z"
   },
   {
    "duration": 13,
    "start_time": "2025-05-08T01:24:45.485Z"
   },
   {
    "duration": 7,
    "start_time": "2025-05-08T01:24:45.501Z"
   },
   {
    "duration": 4,
    "start_time": "2025-05-08T01:24:45.510Z"
   },
   {
    "duration": 4,
    "start_time": "2025-05-08T01:24:45.516Z"
   },
   {
    "duration": 8,
    "start_time": "2025-05-08T01:24:45.522Z"
   },
   {
    "duration": 8,
    "start_time": "2025-05-08T01:24:45.532Z"
   },
   {
    "duration": 4,
    "start_time": "2025-05-08T01:24:45.542Z"
   },
   {
    "duration": 49,
    "start_time": "2025-05-08T01:24:45.548Z"
   },
   {
    "duration": 3,
    "start_time": "2025-05-08T01:24:45.601Z"
   },
   {
    "duration": 5,
    "start_time": "2025-05-08T01:24:45.606Z"
   },
   {
    "duration": 11,
    "start_time": "2025-05-08T01:24:45.613Z"
   },
   {
    "duration": 11,
    "start_time": "2025-05-08T01:24:45.625Z"
   },
   {
    "duration": 11,
    "start_time": "2025-05-08T01:24:45.638Z"
   },
   {
    "duration": 35,
    "start_time": "2025-05-08T01:24:45.651Z"
   },
   {
    "duration": 10,
    "start_time": "2025-05-08T01:24:45.688Z"
   },
   {
    "duration": 4,
    "start_time": "2025-05-08T01:24:45.700Z"
   },
   {
    "duration": 190,
    "start_time": "2025-05-08T01:24:45.706Z"
   },
   {
    "duration": 5,
    "start_time": "2025-05-08T01:25:09.807Z"
   },
   {
    "duration": 3,
    "start_time": "2025-05-08T01:26:09.518Z"
   },
   {
    "duration": 495,
    "start_time": "2025-05-08T01:27:03.851Z"
   },
   {
    "duration": 471,
    "start_time": "2025-05-08T01:27:17.870Z"
   },
   {
    "duration": 441,
    "start_time": "2025-05-08T01:27:56.925Z"
   },
   {
    "duration": 107,
    "start_time": "2025-05-08T01:29:05.681Z"
   },
   {
    "duration": 116,
    "start_time": "2025-05-08T01:29:11.488Z"
   },
   {
    "duration": 15,
    "start_time": "2025-05-08T01:30:32.349Z"
   },
   {
    "duration": 116,
    "start_time": "2025-05-08T01:31:42.108Z"
   },
   {
    "duration": 137,
    "start_time": "2025-05-08T01:32:02.030Z"
   },
   {
    "duration": 112,
    "start_time": "2025-05-08T01:32:16.770Z"
   },
   {
    "duration": 3,
    "start_time": "2025-05-08T01:34:08.006Z"
   },
   {
    "duration": 13,
    "start_time": "2025-05-08T01:34:17.044Z"
   },
   {
    "duration": 14,
    "start_time": "2025-05-08T01:34:33.476Z"
   },
   {
    "duration": 111,
    "start_time": "2025-05-08T01:34:38.567Z"
   },
   {
    "duration": 19,
    "start_time": "2025-05-08T01:34:40.883Z"
   },
   {
    "duration": 3,
    "start_time": "2025-05-08T01:34:44.877Z"
   },
   {
    "duration": 23,
    "start_time": "2025-05-08T01:34:44.882Z"
   },
   {
    "duration": 10,
    "start_time": "2025-05-08T01:34:44.907Z"
   },
   {
    "duration": 10,
    "start_time": "2025-05-08T01:34:44.918Z"
   },
   {
    "duration": 9,
    "start_time": "2025-05-08T01:34:44.931Z"
   },
   {
    "duration": 14,
    "start_time": "2025-05-08T01:34:44.942Z"
   },
   {
    "duration": 33,
    "start_time": "2025-05-08T01:34:44.958Z"
   },
   {
    "duration": 4,
    "start_time": "2025-05-08T01:34:44.993Z"
   },
   {
    "duration": 5,
    "start_time": "2025-05-08T01:34:44.998Z"
   },
   {
    "duration": 5,
    "start_time": "2025-05-08T01:34:45.004Z"
   },
   {
    "duration": 8,
    "start_time": "2025-05-08T01:34:45.010Z"
   },
   {
    "duration": 16,
    "start_time": "2025-05-08T01:34:45.019Z"
   },
   {
    "duration": 13,
    "start_time": "2025-05-08T01:34:45.036Z"
   },
   {
    "duration": 3,
    "start_time": "2025-05-08T01:34:45.053Z"
   },
   {
    "duration": 4,
    "start_time": "2025-05-08T01:34:45.086Z"
   },
   {
    "duration": 10,
    "start_time": "2025-05-08T01:34:45.092Z"
   },
   {
    "duration": 12,
    "start_time": "2025-05-08T01:34:45.103Z"
   },
   {
    "duration": 12,
    "start_time": "2025-05-08T01:34:45.117Z"
   },
   {
    "duration": 6,
    "start_time": "2025-05-08T01:34:45.130Z"
   },
   {
    "duration": 10,
    "start_time": "2025-05-08T01:34:45.137Z"
   },
   {
    "duration": 43,
    "start_time": "2025-05-08T01:34:45.149Z"
   },
   {
    "duration": 195,
    "start_time": "2025-05-08T01:34:45.194Z"
   },
   {
    "duration": 118,
    "start_time": "2025-05-08T01:34:45.392Z"
   },
   {
    "duration": 14,
    "start_time": "2025-05-08T01:34:47.491Z"
   },
   {
    "duration": 3,
    "start_time": "2025-05-08T01:35:21.322Z"
   },
   {
    "duration": 4,
    "start_time": "2025-05-08T01:35:31.634Z"
   },
   {
    "duration": 13,
    "start_time": "2025-05-08T01:41:26.206Z"
   },
   {
    "duration": 3,
    "start_time": "2025-05-08T01:41:50.932Z"
   },
   {
    "duration": 6,
    "start_time": "2025-05-08T01:42:02.283Z"
   },
   {
    "duration": 5,
    "start_time": "2025-05-08T01:42:12.797Z"
   },
   {
    "duration": 4,
    "start_time": "2025-05-08T01:42:47.646Z"
   },
   {
    "duration": 9,
    "start_time": "2025-05-08T01:42:53.340Z"
   },
   {
    "duration": 12,
    "start_time": "2025-05-08T01:43:30.058Z"
   },
   {
    "duration": 3,
    "start_time": "2025-05-08T01:55:22.253Z"
   },
   {
    "duration": 24,
    "start_time": "2025-05-08T01:55:22.258Z"
   },
   {
    "duration": 11,
    "start_time": "2025-05-08T01:55:22.284Z"
   },
   {
    "duration": 10,
    "start_time": "2025-05-08T01:55:22.296Z"
   },
   {
    "duration": 10,
    "start_time": "2025-05-08T01:55:22.309Z"
   },
   {
    "duration": 14,
    "start_time": "2025-05-08T01:55:22.321Z"
   },
   {
    "duration": 6,
    "start_time": "2025-05-08T01:55:22.337Z"
   },
   {
    "duration": 3,
    "start_time": "2025-05-08T01:55:22.344Z"
   },
   {
    "duration": 38,
    "start_time": "2025-05-08T01:55:22.349Z"
   },
   {
    "duration": 7,
    "start_time": "2025-05-08T01:55:22.389Z"
   },
   {
    "duration": 8,
    "start_time": "2025-05-08T01:55:22.398Z"
   },
   {
    "duration": 4,
    "start_time": "2025-05-08T01:55:22.408Z"
   },
   {
    "duration": 12,
    "start_time": "2025-05-08T01:55:22.414Z"
   },
   {
    "duration": 4,
    "start_time": "2025-05-08T01:55:22.429Z"
   },
   {
    "duration": 4,
    "start_time": "2025-05-08T01:55:22.434Z"
   },
   {
    "duration": 52,
    "start_time": "2025-05-08T01:55:22.440Z"
   },
   {
    "duration": 14,
    "start_time": "2025-05-08T01:55:22.494Z"
   },
   {
    "duration": 13,
    "start_time": "2025-05-08T01:55:22.510Z"
   },
   {
    "duration": 7,
    "start_time": "2025-05-08T01:55:22.525Z"
   },
   {
    "duration": 11,
    "start_time": "2025-05-08T01:55:22.533Z"
   },
   {
    "duration": 4,
    "start_time": "2025-05-08T01:55:22.546Z"
   },
   {
    "duration": 211,
    "start_time": "2025-05-08T01:55:22.552Z"
   },
   {
    "duration": 125,
    "start_time": "2025-05-08T01:55:22.765Z"
   },
   {
    "duration": 4,
    "start_time": "2025-05-08T01:55:22.891Z"
   },
   {
    "duration": 112,
    "start_time": "2025-05-08T01:55:22.897Z"
   },
   {
    "duration": 0,
    "start_time": "2025-05-08T01:55:23.010Z"
   },
   {
    "duration": 0,
    "start_time": "2025-05-08T01:55:23.012Z"
   },
   {
    "duration": 3,
    "start_time": "2025-05-08T01:55:51.777Z"
   },
   {
    "duration": 21,
    "start_time": "2025-05-08T01:55:51.802Z"
   },
   {
    "duration": 11,
    "start_time": "2025-05-08T01:55:51.824Z"
   },
   {
    "duration": 11,
    "start_time": "2025-05-08T01:55:51.836Z"
   },
   {
    "duration": 11,
    "start_time": "2025-05-08T01:55:51.848Z"
   },
   {
    "duration": 29,
    "start_time": "2025-05-08T01:55:51.861Z"
   },
   {
    "duration": 6,
    "start_time": "2025-05-08T01:55:51.892Z"
   },
   {
    "duration": 3,
    "start_time": "2025-05-08T01:55:51.900Z"
   },
   {
    "duration": 4,
    "start_time": "2025-05-08T01:55:51.905Z"
   },
   {
    "duration": 6,
    "start_time": "2025-05-08T01:55:51.911Z"
   },
   {
    "duration": 6,
    "start_time": "2025-05-08T01:55:51.918Z"
   },
   {
    "duration": 5,
    "start_time": "2025-05-08T01:55:51.926Z"
   },
   {
    "duration": 13,
    "start_time": "2025-05-08T01:55:51.932Z"
   },
   {
    "duration": 42,
    "start_time": "2025-05-08T01:55:51.946Z"
   },
   {
    "duration": 5,
    "start_time": "2025-05-08T01:55:51.992Z"
   },
   {
    "duration": 12,
    "start_time": "2025-05-08T01:55:51.998Z"
   },
   {
    "duration": 12,
    "start_time": "2025-05-08T01:55:52.012Z"
   },
   {
    "duration": 15,
    "start_time": "2025-05-08T01:55:52.025Z"
   },
   {
    "duration": 5,
    "start_time": "2025-05-08T01:55:52.041Z"
   },
   {
    "duration": 52,
    "start_time": "2025-05-08T01:55:52.048Z"
   },
   {
    "duration": 6,
    "start_time": "2025-05-08T01:55:52.102Z"
   },
   {
    "duration": 193,
    "start_time": "2025-05-08T01:55:52.110Z"
   },
   {
    "duration": 125,
    "start_time": "2025-05-08T01:55:52.305Z"
   },
   {
    "duration": 4,
    "start_time": "2025-05-08T01:55:52.433Z"
   },
   {
    "duration": 5,
    "start_time": "2025-05-08T01:55:52.438Z"
   },
   {
    "duration": 175,
    "start_time": "2025-05-08T01:55:52.445Z"
   },
   {
    "duration": 12,
    "start_time": "2025-05-08T01:55:52.622Z"
   },
   {
    "duration": 192,
    "start_time": "2025-05-08T02:01:29.041Z"
   },
   {
    "duration": 3,
    "start_time": "2025-05-08T02:05:07.606Z"
   },
   {
    "duration": 24,
    "start_time": "2025-05-08T02:05:07.610Z"
   },
   {
    "duration": 11,
    "start_time": "2025-05-08T02:05:07.636Z"
   },
   {
    "duration": 10,
    "start_time": "2025-05-08T02:05:07.649Z"
   },
   {
    "duration": 10,
    "start_time": "2025-05-08T02:05:07.661Z"
   },
   {
    "duration": 33,
    "start_time": "2025-05-08T02:05:07.673Z"
   },
   {
    "duration": 12,
    "start_time": "2025-05-08T02:05:07.708Z"
   },
   {
    "duration": 3,
    "start_time": "2025-05-08T02:05:07.722Z"
   },
   {
    "duration": 5,
    "start_time": "2025-05-08T02:05:07.726Z"
   },
   {
    "duration": 5,
    "start_time": "2025-05-08T02:05:07.734Z"
   },
   {
    "duration": 7,
    "start_time": "2025-05-08T02:05:07.741Z"
   },
   {
    "duration": 3,
    "start_time": "2025-05-08T02:05:07.749Z"
   },
   {
    "duration": 49,
    "start_time": "2025-05-08T02:05:07.754Z"
   },
   {
    "duration": 6,
    "start_time": "2025-05-08T02:05:07.805Z"
   },
   {
    "duration": 6,
    "start_time": "2025-05-08T02:05:07.813Z"
   },
   {
    "duration": 12,
    "start_time": "2025-05-08T02:05:07.820Z"
   },
   {
    "duration": 12,
    "start_time": "2025-05-08T02:05:07.834Z"
   },
   {
    "duration": 43,
    "start_time": "2025-05-08T02:05:07.847Z"
   },
   {
    "duration": 9,
    "start_time": "2025-05-08T02:05:07.893Z"
   },
   {
    "duration": 24,
    "start_time": "2025-05-08T02:05:07.905Z"
   },
   {
    "duration": 6,
    "start_time": "2025-05-08T02:05:07.931Z"
   },
   {
    "duration": 229,
    "start_time": "2025-05-08T02:05:07.939Z"
   },
   {
    "duration": 140,
    "start_time": "2025-05-08T02:05:08.171Z"
   },
   {
    "duration": 5,
    "start_time": "2025-05-08T02:05:08.313Z"
   },
   {
    "duration": 5,
    "start_time": "2025-05-08T02:05:08.319Z"
   },
   {
    "duration": 194,
    "start_time": "2025-05-08T02:05:08.326Z"
   },
   {
    "duration": 6,
    "start_time": "2025-05-08T02:07:19.109Z"
   },
   {
    "duration": 8,
    "start_time": "2025-05-08T02:07:29.040Z"
   },
   {
    "duration": 6,
    "start_time": "2025-05-08T02:08:04.267Z"
   },
   {
    "duration": 5,
    "start_time": "2025-05-08T02:08:44.269Z"
   },
   {
    "duration": 6,
    "start_time": "2025-05-08T02:09:49.889Z"
   },
   {
    "duration": 21,
    "start_time": "2025-05-08T02:09:53.624Z"
   },
   {
    "duration": 7,
    "start_time": "2025-05-08T02:10:00.017Z"
   },
   {
    "duration": 3,
    "start_time": "2025-05-08T02:11:09.223Z"
   },
   {
    "duration": 25,
    "start_time": "2025-05-08T02:11:09.228Z"
   },
   {
    "duration": 17,
    "start_time": "2025-05-08T02:11:09.257Z"
   },
   {
    "duration": 12,
    "start_time": "2025-05-08T02:11:09.276Z"
   },
   {
    "duration": 13,
    "start_time": "2025-05-08T02:11:09.290Z"
   },
   {
    "duration": 19,
    "start_time": "2025-05-08T02:11:09.305Z"
   },
   {
    "duration": 8,
    "start_time": "2025-05-08T02:11:09.326Z"
   },
   {
    "duration": 4,
    "start_time": "2025-05-08T02:11:09.336Z"
   },
   {
    "duration": 6,
    "start_time": "2025-05-08T02:11:09.342Z"
   },
   {
    "duration": 39,
    "start_time": "2025-05-08T02:11:09.350Z"
   },
   {
    "duration": 7,
    "start_time": "2025-05-08T02:11:09.394Z"
   },
   {
    "duration": 5,
    "start_time": "2025-05-08T02:11:09.403Z"
   },
   {
    "duration": 16,
    "start_time": "2025-05-08T02:11:09.410Z"
   },
   {
    "duration": 4,
    "start_time": "2025-05-08T02:11:09.429Z"
   },
   {
    "duration": 6,
    "start_time": "2025-05-08T02:11:09.435Z"
   },
   {
    "duration": 43,
    "start_time": "2025-05-08T02:11:09.443Z"
   },
   {
    "duration": 15,
    "start_time": "2025-05-08T02:11:09.488Z"
   },
   {
    "duration": 33,
    "start_time": "2025-05-08T02:11:09.509Z"
   },
   {
    "duration": 11,
    "start_time": "2025-05-08T02:11:09.546Z"
   },
   {
    "duration": 18,
    "start_time": "2025-05-08T02:11:09.560Z"
   },
   {
    "duration": 12,
    "start_time": "2025-05-08T02:11:09.587Z"
   },
   {
    "duration": 207,
    "start_time": "2025-05-08T02:11:09.600Z"
   },
   {
    "duration": 124,
    "start_time": "2025-05-08T02:11:09.809Z"
   },
   {
    "duration": 3,
    "start_time": "2025-05-08T02:11:09.935Z"
   },
   {
    "duration": 4,
    "start_time": "2025-05-08T02:11:09.940Z"
   },
   {
    "duration": 223,
    "start_time": "2025-05-08T02:11:09.946Z"
   },
   {
    "duration": 9,
    "start_time": "2025-05-08T02:11:10.187Z"
   },
   {
    "duration": 5,
    "start_time": "2025-05-08T02:11:10.198Z"
   },
   {
    "duration": 5,
    "start_time": "2025-05-08T02:11:10.207Z"
   },
   {
    "duration": 5,
    "start_time": "2025-05-08T02:11:10.213Z"
   },
   {
    "duration": 5,
    "start_time": "2025-05-08T02:11:10.220Z"
   },
   {
    "duration": 6,
    "start_time": "2025-05-08T02:11:10.226Z"
   },
   {
    "duration": 24,
    "start_time": "2025-05-08T02:12:13.087Z"
   },
   {
    "duration": 18,
    "start_time": "2025-05-08T02:12:26.571Z"
   },
   {
    "duration": 12,
    "start_time": "2025-05-08T02:12:52.808Z"
   },
   {
    "duration": 10,
    "start_time": "2025-05-08T02:13:47.989Z"
   },
   {
    "duration": 24,
    "start_time": "2025-05-08T02:14:31.832Z"
   },
   {
    "duration": 11,
    "start_time": "2025-05-08T02:14:46.266Z"
   },
   {
    "duration": 6,
    "start_time": "2025-05-08T02:16:48.329Z"
   },
   {
    "duration": 6,
    "start_time": "2025-05-08T02:17:17.528Z"
   },
   {
    "duration": 5,
    "start_time": "2025-05-08T02:17:44.505Z"
   },
   {
    "duration": 7,
    "start_time": "2025-05-08T02:21:41.251Z"
   },
   {
    "duration": 6,
    "start_time": "2025-05-08T02:21:49.340Z"
   },
   {
    "duration": 7,
    "start_time": "2025-05-08T02:25:04.949Z"
   },
   {
    "duration": 175,
    "start_time": "2025-05-08T02:26:48.396Z"
   },
   {
    "duration": 6,
    "start_time": "2025-05-08T02:29:05.478Z"
   },
   {
    "duration": 6,
    "start_time": "2025-05-08T02:42:40.989Z"
   },
   {
    "duration": 4,
    "start_time": "2025-05-08T02:42:46.785Z"
   },
   {
    "duration": 2325,
    "start_time": "2025-05-08T02:42:59.382Z"
   },
   {
    "duration": 6,
    "start_time": "2025-05-08T02:43:14.562Z"
   },
   {
    "duration": 16,
    "start_time": "2025-05-08T02:44:23.208Z"
   },
   {
    "duration": 3,
    "start_time": "2025-05-08T02:45:48.458Z"
   },
   {
    "duration": 9,
    "start_time": "2025-05-08T02:46:41.067Z"
   },
   {
    "duration": 10,
    "start_time": "2025-05-08T02:54:48.965Z"
   },
   {
    "duration": 13,
    "start_time": "2025-05-08T02:55:07.440Z"
   },
   {
    "duration": 4,
    "start_time": "2025-05-08T02:55:17.222Z"
   },
   {
    "duration": 5,
    "start_time": "2025-05-08T02:55:30.243Z"
   },
   {
    "duration": 5,
    "start_time": "2025-05-08T02:56:19.960Z"
   },
   {
    "duration": 10,
    "start_time": "2025-05-08T02:56:45.870Z"
   },
   {
    "duration": 10,
    "start_time": "2025-05-08T02:57:00.066Z"
   },
   {
    "duration": 14,
    "start_time": "2025-05-08T02:57:17.409Z"
   },
   {
    "duration": 6,
    "start_time": "2025-05-08T02:57:26.763Z"
   },
   {
    "duration": 22,
    "start_time": "2025-05-08T02:57:52.507Z"
   },
   {
    "duration": 15,
    "start_time": "2025-05-08T02:58:01.711Z"
   },
   {
    "duration": 13,
    "start_time": "2025-05-08T02:58:13.337Z"
   },
   {
    "duration": 5,
    "start_time": "2025-05-08T02:58:23.116Z"
   },
   {
    "duration": 5,
    "start_time": "2025-05-08T02:58:42.783Z"
   },
   {
    "duration": 10,
    "start_time": "2025-05-08T02:59:29.624Z"
   },
   {
    "duration": 11,
    "start_time": "2025-05-08T03:00:53.994Z"
   },
   {
    "duration": 22,
    "start_time": "2025-05-08T03:13:12.356Z"
   },
   {
    "duration": 3,
    "start_time": "2025-05-08T03:13:21.951Z"
   },
   {
    "duration": 24,
    "start_time": "2025-05-08T03:13:21.956Z"
   },
   {
    "duration": 17,
    "start_time": "2025-05-08T03:13:21.983Z"
   },
   {
    "duration": 12,
    "start_time": "2025-05-08T03:13:22.002Z"
   },
   {
    "duration": 13,
    "start_time": "2025-05-08T03:13:22.016Z"
   },
   {
    "duration": 18,
    "start_time": "2025-05-08T03:13:22.030Z"
   },
   {
    "duration": 16,
    "start_time": "2025-05-08T03:13:22.055Z"
   },
   {
    "duration": 15,
    "start_time": "2025-05-08T03:13:22.075Z"
   },
   {
    "duration": 10,
    "start_time": "2025-05-08T03:13:22.094Z"
   },
   {
    "duration": 12,
    "start_time": "2025-05-08T03:13:22.106Z"
   },
   {
    "duration": 14,
    "start_time": "2025-05-08T03:13:22.125Z"
   },
   {
    "duration": 8,
    "start_time": "2025-05-08T03:13:22.143Z"
   },
   {
    "duration": 21,
    "start_time": "2025-05-08T03:13:22.155Z"
   },
   {
    "duration": 9,
    "start_time": "2025-05-08T03:13:22.181Z"
   },
   {
    "duration": 11,
    "start_time": "2025-05-08T03:13:22.192Z"
   },
   {
    "duration": 16,
    "start_time": "2025-05-08T03:13:22.208Z"
   },
   {
    "duration": 14,
    "start_time": "2025-05-08T03:13:22.226Z"
   },
   {
    "duration": 26,
    "start_time": "2025-05-08T03:13:22.241Z"
   },
   {
    "duration": 7,
    "start_time": "2025-05-08T03:13:22.270Z"
   },
   {
    "duration": 28,
    "start_time": "2025-05-08T03:13:22.278Z"
   },
   {
    "duration": 5,
    "start_time": "2025-05-08T03:13:22.308Z"
   },
   {
    "duration": 247,
    "start_time": "2025-05-08T03:13:22.315Z"
   },
   {
    "duration": 184,
    "start_time": "2025-05-08T03:13:22.564Z"
   },
   {
    "duration": 4,
    "start_time": "2025-05-08T03:13:22.750Z"
   },
   {
    "duration": 5,
    "start_time": "2025-05-08T03:13:22.756Z"
   },
   {
    "duration": 262,
    "start_time": "2025-05-08T03:13:22.763Z"
   },
   {
    "duration": 14,
    "start_time": "2025-05-08T03:13:23.028Z"
   },
   {
    "duration": 6,
    "start_time": "2025-05-08T03:13:23.044Z"
   },
   {
    "duration": 32,
    "start_time": "2025-05-08T03:13:23.055Z"
   },
   {
    "duration": 9,
    "start_time": "2025-05-08T03:13:23.089Z"
   },
   {
    "duration": 2999,
    "start_time": "2025-05-08T23:32:15.849Z"
   },
   {
    "duration": 57,
    "start_time": "2025-05-08T23:32:18.850Z"
   },
   {
    "duration": 16,
    "start_time": "2025-05-08T23:32:18.909Z"
   },
   {
    "duration": 19,
    "start_time": "2025-05-08T23:32:18.927Z"
   },
   {
    "duration": 20,
    "start_time": "2025-05-08T23:32:18.951Z"
   },
   {
    "duration": 20,
    "start_time": "2025-05-08T23:32:18.973Z"
   },
   {
    "duration": 6,
    "start_time": "2025-05-08T23:32:18.994Z"
   },
   {
    "duration": 17,
    "start_time": "2025-05-08T23:32:19.002Z"
   },
   {
    "duration": 10,
    "start_time": "2025-05-08T23:32:19.020Z"
   },
   {
    "duration": 12,
    "start_time": "2025-05-08T23:32:19.031Z"
   },
   {
    "duration": 31,
    "start_time": "2025-05-08T23:32:19.044Z"
   },
   {
    "duration": 3,
    "start_time": "2025-05-08T23:32:19.077Z"
   },
   {
    "duration": 12,
    "start_time": "2025-05-08T23:32:19.082Z"
   },
   {
    "duration": 4,
    "start_time": "2025-05-08T23:32:19.099Z"
   },
   {
    "duration": 14,
    "start_time": "2025-05-08T23:32:19.105Z"
   },
   {
    "duration": 23,
    "start_time": "2025-05-08T23:32:19.120Z"
   },
   {
    "duration": 19,
    "start_time": "2025-05-08T23:32:19.144Z"
   },
   {
    "duration": 18,
    "start_time": "2025-05-08T23:32:19.164Z"
   },
   {
    "duration": 6,
    "start_time": "2025-05-08T23:32:19.185Z"
   },
   {
    "duration": 34,
    "start_time": "2025-05-08T23:32:19.193Z"
   },
   {
    "duration": 10,
    "start_time": "2025-05-08T23:32:19.229Z"
   },
   {
    "duration": 325,
    "start_time": "2025-05-08T23:32:19.241Z"
   },
   {
    "duration": 175,
    "start_time": "2025-05-08T23:32:19.568Z"
   },
   {
    "duration": 5,
    "start_time": "2025-05-08T23:32:19.745Z"
   },
   {
    "duration": 8,
    "start_time": "2025-05-08T23:32:19.752Z"
   },
   {
    "duration": 183,
    "start_time": "2025-05-08T23:32:19.761Z"
   },
   {
    "duration": 21,
    "start_time": "2025-05-08T23:32:19.946Z"
   },
   {
    "duration": 5,
    "start_time": "2025-05-08T23:32:19.970Z"
   },
   {
    "duration": 13,
    "start_time": "2025-05-08T23:32:19.977Z"
   },
   {
    "duration": 24,
    "start_time": "2025-05-08T23:32:19.993Z"
   },
   {
    "duration": 6,
    "start_time": "2025-05-08T23:33:16.239Z"
   },
   {
    "duration": 6,
    "start_time": "2025-05-08T23:33:26.485Z"
   },
   {
    "duration": 4,
    "start_time": "2025-05-08T23:33:59.071Z"
   },
   {
    "duration": 3,
    "start_time": "2025-05-08T23:34:01.558Z"
   },
   {
    "duration": 4,
    "start_time": "2025-05-08T23:34:02.805Z"
   },
   {
    "duration": 5,
    "start_time": "2025-05-08T23:34:10.044Z"
   },
   {
    "duration": 29,
    "start_time": "2025-05-08T23:34:10.051Z"
   },
   {
    "duration": 15,
    "start_time": "2025-05-08T23:34:10.082Z"
   },
   {
    "duration": 40,
    "start_time": "2025-05-08T23:34:10.099Z"
   },
   {
    "duration": 13,
    "start_time": "2025-05-08T23:34:10.147Z"
   },
   {
    "duration": 14,
    "start_time": "2025-05-08T23:34:10.162Z"
   },
   {
    "duration": 8,
    "start_time": "2025-05-08T23:34:10.178Z"
   },
   {
    "duration": 2,
    "start_time": "2025-05-08T23:34:10.188Z"
   },
   {
    "duration": 10,
    "start_time": "2025-05-08T23:34:12.825Z"
   },
   {
    "duration": 25,
    "start_time": "2025-05-08T23:35:29.824Z"
   },
   {
    "duration": 11,
    "start_time": "2025-05-08T23:36:35.873Z"
   },
   {
    "duration": 12,
    "start_time": "2025-05-08T23:39:15.663Z"
   },
   {
    "duration": 293,
    "start_time": "2025-05-08T23:52:34.248Z"
   },
   {
    "duration": 3,
    "start_time": "2025-05-08T23:52:41.794Z"
   },
   {
    "duration": 43,
    "start_time": "2025-05-08T23:52:41.801Z"
   },
   {
    "duration": 14,
    "start_time": "2025-05-08T23:52:41.847Z"
   },
   {
    "duration": 14,
    "start_time": "2025-05-08T23:52:41.863Z"
   },
   {
    "duration": 15,
    "start_time": "2025-05-08T23:52:41.879Z"
   },
   {
    "duration": 43,
    "start_time": "2025-05-08T23:52:41.896Z"
   },
   {
    "duration": 11,
    "start_time": "2025-05-08T23:52:41.940Z"
   },
   {
    "duration": 7,
    "start_time": "2025-05-08T23:52:41.952Z"
   },
   {
    "duration": 6,
    "start_time": "2025-05-08T23:52:41.960Z"
   },
   {
    "duration": 9,
    "start_time": "2025-05-08T23:52:41.969Z"
   },
   {
    "duration": 5,
    "start_time": "2025-05-08T23:52:41.980Z"
   },
   {
    "duration": 16,
    "start_time": "2025-05-08T23:52:41.986Z"
   },
   {
    "duration": 5,
    "start_time": "2025-05-08T23:52:42.014Z"
   },
   {
    "duration": 14,
    "start_time": "2025-05-08T23:52:42.021Z"
   },
   {
    "duration": 25,
    "start_time": "2025-05-08T23:52:42.038Z"
   },
   {
    "duration": 13,
    "start_time": "2025-05-08T23:52:42.064Z"
   },
   {
    "duration": 20,
    "start_time": "2025-05-08T23:52:42.078Z"
   },
   {
    "duration": 25,
    "start_time": "2025-05-08T23:52:42.102Z"
   },
   {
    "duration": 6,
    "start_time": "2025-05-08T23:52:42.144Z"
   },
   {
    "duration": 17,
    "start_time": "2025-05-08T23:52:42.152Z"
   },
   {
    "duration": 5,
    "start_time": "2025-05-08T23:52:42.171Z"
   },
   {
    "duration": 190,
    "start_time": "2025-05-08T23:52:42.178Z"
   },
   {
    "duration": 122,
    "start_time": "2025-05-08T23:52:42.369Z"
   },
   {
    "duration": 4,
    "start_time": "2025-05-08T23:52:42.493Z"
   },
   {
    "duration": 20,
    "start_time": "2025-05-08T23:52:42.499Z"
   },
   {
    "duration": 170,
    "start_time": "2025-05-08T23:52:42.520Z"
   },
   {
    "duration": 30,
    "start_time": "2025-05-08T23:52:42.692Z"
   },
   {
    "duration": 16,
    "start_time": "2025-05-08T23:52:42.723Z"
   },
   {
    "duration": 8,
    "start_time": "2025-05-08T23:52:42.753Z"
   },
   {
    "duration": 5,
    "start_time": "2025-05-08T23:52:42.763Z"
   },
   {
    "duration": 29,
    "start_time": "2025-05-08T23:52:45.040Z"
   },
   {
    "duration": 47,
    "start_time": "2025-05-08T23:53:07.494Z"
   },
   {
    "duration": 21,
    "start_time": "2025-05-08T23:53:38.232Z"
   },
   {
    "duration": 12,
    "start_time": "2025-05-08T23:54:02.640Z"
   },
   {
    "duration": 585,
    "start_time": "2025-05-08T23:54:10.770Z"
   },
   {
    "duration": 132,
    "start_time": "2025-05-08T23:54:44.958Z"
   },
   {
    "duration": 116,
    "start_time": "2025-05-08T23:55:32.538Z"
   },
   {
    "duration": 5,
    "start_time": "2025-05-08T23:56:54.489Z"
   },
   {
    "duration": 7,
    "start_time": "2025-05-08T23:57:57.020Z"
   },
   {
    "duration": 9,
    "start_time": "2025-05-08T23:58:19.181Z"
   },
   {
    "duration": 11,
    "start_time": "2025-05-08T23:59:15.822Z"
   },
   {
    "duration": 4,
    "start_time": "2025-05-09T00:00:46.971Z"
   },
   {
    "duration": 6,
    "start_time": "2025-05-09T00:01:30.929Z"
   },
   {
    "duration": 3,
    "start_time": "2025-05-09T00:01:35.214Z"
   },
   {
    "duration": 33,
    "start_time": "2025-05-09T00:01:35.220Z"
   },
   {
    "duration": 14,
    "start_time": "2025-05-09T00:01:35.255Z"
   },
   {
    "duration": 14,
    "start_time": "2025-05-09T00:01:35.272Z"
   },
   {
    "duration": 11,
    "start_time": "2025-05-09T00:01:35.312Z"
   },
   {
    "duration": 14,
    "start_time": "2025-05-09T00:01:35.325Z"
   },
   {
    "duration": 6,
    "start_time": "2025-05-09T00:01:35.341Z"
   },
   {
    "duration": 4,
    "start_time": "2025-05-09T00:01:35.348Z"
   },
   {
    "duration": 5,
    "start_time": "2025-05-09T00:01:35.354Z"
   },
   {
    "duration": 6,
    "start_time": "2025-05-09T00:01:35.361Z"
   },
   {
    "duration": 46,
    "start_time": "2025-05-09T00:01:35.369Z"
   },
   {
    "duration": 5,
    "start_time": "2025-05-09T00:01:35.418Z"
   },
   {
    "duration": 11,
    "start_time": "2025-05-09T00:01:35.427Z"
   },
   {
    "duration": 4,
    "start_time": "2025-05-09T00:01:35.440Z"
   },
   {
    "duration": 6,
    "start_time": "2025-05-09T00:01:35.446Z"
   },
   {
    "duration": 11,
    "start_time": "2025-05-09T00:01:35.455Z"
   },
   {
    "duration": 45,
    "start_time": "2025-05-09T00:01:35.468Z"
   },
   {
    "duration": 18,
    "start_time": "2025-05-09T00:01:35.515Z"
   },
   {
    "duration": 13,
    "start_time": "2025-05-09T00:01:35.535Z"
   },
   {
    "duration": 6,
    "start_time": "2025-05-09T00:01:35.549Z"
   },
   {
    "duration": 16,
    "start_time": "2025-05-09T00:01:35.556Z"
   },
   {
    "duration": 5,
    "start_time": "2025-05-09T00:01:35.575Z"
   },
   {
    "duration": 181,
    "start_time": "2025-05-09T00:01:35.611Z"
   },
   {
    "duration": 147,
    "start_time": "2025-05-09T00:01:35.795Z"
   },
   {
    "duration": 4,
    "start_time": "2025-05-09T00:01:35.943Z"
   },
   {
    "duration": 5,
    "start_time": "2025-05-09T00:01:35.949Z"
   },
   {
    "duration": 172,
    "start_time": "2025-05-09T00:01:35.958Z"
   },
   {
    "duration": 10,
    "start_time": "2025-05-09T00:01:36.131Z"
   },
   {
    "duration": 6,
    "start_time": "2025-05-09T00:01:36.143Z"
   },
   {
    "duration": 13,
    "start_time": "2025-05-09T00:01:36.153Z"
   },
   {
    "duration": 5,
    "start_time": "2025-05-09T00:01:36.169Z"
   },
   {
    "duration": 7,
    "start_time": "2025-05-09T00:01:36.175Z"
   },
   {
    "duration": 22,
    "start_time": "2025-05-09T00:01:50.816Z"
   },
   {
    "duration": 26,
    "start_time": "2025-05-09T00:02:07.575Z"
   },
   {
    "duration": 11,
    "start_time": "2025-05-09T00:03:22.508Z"
   },
   {
    "duration": 10,
    "start_time": "2025-05-09T00:03:24.948Z"
   },
   {
    "duration": 8,
    "start_time": "2025-05-09T00:03:25.779Z"
   },
   {
    "duration": 7,
    "start_time": "2025-05-09T00:06:11.156Z"
   },
   {
    "duration": 334,
    "start_time": "2025-05-09T00:07:29.139Z"
   },
   {
    "duration": 8,
    "start_time": "2025-05-09T00:09:49.324Z"
   },
   {
    "duration": 70,
    "start_time": "2025-05-09T00:09:55.768Z"
   },
   {
    "duration": 9,
    "start_time": "2025-05-09T00:10:24.039Z"
   },
   {
    "duration": 10,
    "start_time": "2025-05-09T00:10:42.174Z"
   },
   {
    "duration": 9,
    "start_time": "2025-05-09T00:10:46.715Z"
   },
   {
    "duration": 5,
    "start_time": "2025-05-09T00:13:49.725Z"
   },
   {
    "duration": 128,
    "start_time": "2025-05-09T00:14:35.398Z"
   },
   {
    "duration": 120,
    "start_time": "2025-05-09T00:14:44.010Z"
   },
   {
    "duration": 16,
    "start_time": "2025-05-09T00:15:10.197Z"
   },
   {
    "duration": 9,
    "start_time": "2025-05-09T00:15:19.823Z"
   },
   {
    "duration": 8,
    "start_time": "2025-05-09T00:15:54.121Z"
   },
   {
    "duration": 15,
    "start_time": "2025-05-09T00:16:04.851Z"
   },
   {
    "duration": 9,
    "start_time": "2025-05-09T00:19:20.175Z"
   },
   {
    "duration": 8,
    "start_time": "2025-05-09T00:19:22.005Z"
   },
   {
    "duration": 9,
    "start_time": "2025-05-09T00:19:33.713Z"
   },
   {
    "duration": 9,
    "start_time": "2025-05-09T00:20:16.336Z"
   },
   {
    "duration": 3,
    "start_time": "2025-05-09T01:27:04.728Z"
   },
   {
    "duration": 27,
    "start_time": "2025-05-09T01:27:04.734Z"
   },
   {
    "duration": 10,
    "start_time": "2025-05-09T01:27:04.763Z"
   },
   {
    "duration": 10,
    "start_time": "2025-05-09T01:27:04.774Z"
   },
   {
    "duration": 11,
    "start_time": "2025-05-09T01:27:04.787Z"
   },
   {
    "duration": 14,
    "start_time": "2025-05-09T01:27:04.811Z"
   },
   {
    "duration": 6,
    "start_time": "2025-05-09T01:27:04.827Z"
   },
   {
    "duration": 4,
    "start_time": "2025-05-09T01:27:04.834Z"
   },
   {
    "duration": 4,
    "start_time": "2025-05-09T01:27:04.839Z"
   },
   {
    "duration": 5,
    "start_time": "2025-05-09T01:27:04.845Z"
   },
   {
    "duration": 7,
    "start_time": "2025-05-09T01:27:04.852Z"
   },
   {
    "duration": 3,
    "start_time": "2025-05-09T01:27:04.861Z"
   },
   {
    "duration": 55,
    "start_time": "2025-05-09T01:27:04.866Z"
   },
   {
    "duration": 3,
    "start_time": "2025-05-09T01:27:04.925Z"
   },
   {
    "duration": 6,
    "start_time": "2025-05-09T01:27:04.930Z"
   },
   {
    "duration": 10,
    "start_time": "2025-05-09T01:27:04.937Z"
   },
   {
    "duration": 12,
    "start_time": "2025-05-09T01:27:04.949Z"
   },
   {
    "duration": 52,
    "start_time": "2025-05-09T01:27:04.963Z"
   },
   {
    "duration": 13,
    "start_time": "2025-05-09T01:27:05.017Z"
   },
   {
    "duration": 5,
    "start_time": "2025-05-09T01:27:05.032Z"
   },
   {
    "duration": 19,
    "start_time": "2025-05-09T01:27:05.039Z"
   },
   {
    "duration": 6,
    "start_time": "2025-05-09T01:27:05.060Z"
   },
   {
    "duration": 198,
    "start_time": "2025-05-09T01:27:05.067Z"
   },
   {
    "duration": 127,
    "start_time": "2025-05-09T01:27:05.267Z"
   },
   {
    "duration": 15,
    "start_time": "2025-05-09T01:27:05.396Z"
   },
   {
    "duration": 6,
    "start_time": "2025-05-09T01:27:05.413Z"
   },
   {
    "duration": 169,
    "start_time": "2025-05-09T01:27:05.420Z"
   },
   {
    "duration": 9,
    "start_time": "2025-05-09T01:27:05.591Z"
   },
   {
    "duration": 4,
    "start_time": "2025-05-09T01:27:05.611Z"
   },
   {
    "duration": 8,
    "start_time": "2025-05-09T01:27:05.616Z"
   },
   {
    "duration": 4,
    "start_time": "2025-05-09T01:27:05.626Z"
   },
   {
    "duration": 12,
    "start_time": "2025-05-09T01:27:05.631Z"
   },
   {
    "duration": 9,
    "start_time": "2025-05-09T01:27:05.644Z"
   },
   {
    "duration": 8,
    "start_time": "2025-05-09T01:27:11.599Z"
   },
   {
    "duration": 7,
    "start_time": "2025-05-09T01:27:46.467Z"
   },
   {
    "duration": 823,
    "start_time": "2025-05-09T01:32:57.051Z"
   },
   {
    "duration": 26,
    "start_time": "2025-05-09T01:32:57.882Z"
   },
   {
    "duration": 12,
    "start_time": "2025-05-09T01:32:57.909Z"
   },
   {
    "duration": 12,
    "start_time": "2025-05-09T01:32:57.923Z"
   },
   {
    "duration": 10,
    "start_time": "2025-05-09T01:32:57.938Z"
   },
   {
    "duration": 14,
    "start_time": "2025-05-09T01:32:57.949Z"
   },
   {
    "duration": 5,
    "start_time": "2025-05-09T01:32:57.965Z"
   },
   {
    "duration": 3,
    "start_time": "2025-05-09T01:32:57.972Z"
   },
   {
    "duration": 6,
    "start_time": "2025-05-09T01:32:58.013Z"
   },
   {
    "duration": 5,
    "start_time": "2025-05-09T01:32:58.031Z"
   },
   {
    "duration": 8,
    "start_time": "2025-05-09T01:32:58.039Z"
   },
   {
    "duration": 3,
    "start_time": "2025-05-09T01:32:58.048Z"
   },
   {
    "duration": 11,
    "start_time": "2025-05-09T01:32:58.053Z"
   },
   {
    "duration": 4,
    "start_time": "2025-05-09T01:32:58.066Z"
   },
   {
    "duration": 5,
    "start_time": "2025-05-09T01:32:58.071Z"
   },
   {
    "duration": 41,
    "start_time": "2025-05-09T01:32:58.078Z"
   },
   {
    "duration": 12,
    "start_time": "2025-05-09T01:32:58.120Z"
   },
   {
    "duration": 20,
    "start_time": "2025-05-09T01:32:58.134Z"
   },
   {
    "duration": 8,
    "start_time": "2025-05-09T01:32:58.156Z"
   },
   {
    "duration": 4,
    "start_time": "2025-05-09T01:32:58.165Z"
   },
   {
    "duration": 46,
    "start_time": "2025-05-09T01:32:58.171Z"
   },
   {
    "duration": 5,
    "start_time": "2025-05-09T01:32:58.219Z"
   },
   {
    "duration": 191,
    "start_time": "2025-05-09T01:32:58.225Z"
   },
   {
    "duration": 142,
    "start_time": "2025-05-09T01:32:58.418Z"
   },
   {
    "duration": 4,
    "start_time": "2025-05-09T01:32:58.562Z"
   },
   {
    "duration": 5,
    "start_time": "2025-05-09T01:32:58.567Z"
   },
   {
    "duration": 236,
    "start_time": "2025-05-09T01:32:58.574Z"
   },
   {
    "duration": 13,
    "start_time": "2025-05-09T01:32:58.813Z"
   },
   {
    "duration": 5,
    "start_time": "2025-05-09T01:32:58.827Z"
   },
   {
    "duration": 9,
    "start_time": "2025-05-09T01:32:58.833Z"
   },
   {
    "duration": 4,
    "start_time": "2025-05-09T01:32:58.844Z"
   },
   {
    "duration": 8,
    "start_time": "2025-05-09T01:32:58.850Z"
   },
   {
    "duration": 8,
    "start_time": "2025-05-09T01:32:58.860Z"
   },
   {
    "duration": 8,
    "start_time": "2025-05-09T01:33:06.126Z"
   },
   {
    "duration": 871,
    "start_time": "2025-05-09T05:56:22.054Z"
   },
   {
    "duration": 35,
    "start_time": "2025-05-09T05:56:22.927Z"
   },
   {
    "duration": 11,
    "start_time": "2025-05-09T05:56:22.964Z"
   },
   {
    "duration": 12,
    "start_time": "2025-05-09T05:56:22.978Z"
   },
   {
    "duration": 11,
    "start_time": "2025-05-09T05:56:22.992Z"
   },
   {
    "duration": 29,
    "start_time": "2025-05-09T05:56:23.005Z"
   },
   {
    "duration": 6,
    "start_time": "2025-05-09T05:56:23.035Z"
   },
   {
    "duration": 3,
    "start_time": "2025-05-09T05:56:23.043Z"
   },
   {
    "duration": 5,
    "start_time": "2025-05-09T05:56:23.047Z"
   },
   {
    "duration": 5,
    "start_time": "2025-05-09T05:56:23.054Z"
   },
   {
    "duration": 7,
    "start_time": "2025-05-09T05:56:23.061Z"
   },
   {
    "duration": 4,
    "start_time": "2025-05-09T05:56:23.070Z"
   },
   {
    "duration": 13,
    "start_time": "2025-05-09T05:56:23.075Z"
   },
   {
    "duration": 45,
    "start_time": "2025-05-09T05:56:23.089Z"
   },
   {
    "duration": 4,
    "start_time": "2025-05-09T05:56:23.136Z"
   },
   {
    "duration": 10,
    "start_time": "2025-05-09T05:56:23.142Z"
   },
   {
    "duration": 13,
    "start_time": "2025-05-09T05:56:24.525Z"
   },
   {
    "duration": 22,
    "start_time": "2025-05-09T05:56:25.927Z"
   },
   {
    "duration": 10,
    "start_time": "2025-05-09T05:56:25.952Z"
   },
   {
    "duration": 5,
    "start_time": "2025-05-09T05:56:26.021Z"
   },
   {
    "duration": 17,
    "start_time": "2025-05-09T05:56:26.068Z"
   },
   {
    "duration": 5,
    "start_time": "2025-05-09T05:56:26.116Z"
   },
   {
    "duration": 196,
    "start_time": "2025-05-09T05:56:26.190Z"
   },
   {
    "duration": 116,
    "start_time": "2025-05-09T05:56:27.035Z"
   },
   {
    "duration": 4,
    "start_time": "2025-05-09T05:56:27.163Z"
   },
   {
    "duration": 4,
    "start_time": "2025-05-09T05:56:27.224Z"
   },
   {
    "duration": 211,
    "start_time": "2025-05-09T05:56:27.263Z"
   },
   {
    "duration": 10,
    "start_time": "2025-05-09T05:56:28.044Z"
   },
   {
    "duration": 4,
    "start_time": "2025-05-09T05:56:28.576Z"
   },
   {
    "duration": 9,
    "start_time": "2025-05-09T05:56:28.711Z"
   },
   {
    "duration": 4,
    "start_time": "2025-05-09T05:56:28.745Z"
   },
   {
    "duration": 9,
    "start_time": "2025-05-09T05:56:29.652Z"
   },
   {
    "duration": 11,
    "start_time": "2025-05-09T05:56:29.758Z"
   },
   {
    "duration": 16,
    "start_time": "2025-05-09T05:56:40.754Z"
   },
   {
    "duration": 5,
    "start_time": "2025-05-09T05:56:56.367Z"
   },
   {
    "duration": 10,
    "start_time": "2025-05-09T05:57:07.381Z"
   },
   {
    "duration": 17,
    "start_time": "2025-05-09T05:57:39.570Z"
   },
   {
    "duration": 7,
    "start_time": "2025-05-09T05:58:00.598Z"
   }
  ],
  "kernelspec": {
   "display_name": "Python 3 (ipykernel)",
   "language": "python",
   "name": "python3"
  },
  "language_info": {
   "codemirror_mode": {
    "name": "ipython",
    "version": 3
   },
   "file_extension": ".py",
   "mimetype": "text/x-python",
   "name": "python",
   "nbconvert_exporter": "python",
   "pygments_lexer": "ipython3",
   "version": "3.9.22"
  },
  "toc": {
   "base_numbering": 1,
   "nav_menu": {},
   "number_sections": true,
   "sideBar": true,
   "skip_h1_title": true,
   "title_cell": "Table of Contents",
   "title_sidebar": "Contents",
   "toc_cell": false,
   "toc_position": {},
   "toc_section_display": true,
   "toc_window_display": false
  }
 },
 "nbformat": 4,
 "nbformat_minor": 4
}
